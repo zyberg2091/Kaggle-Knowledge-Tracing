{
  "nbformat": 4,
  "nbformat_minor": 0,
  "metadata": {
    "colab": {
      "name": "Knowledge_Tracing (Time series analysis)",
      "provenance": [],
      "collapsed_sections": [],
      "mount_file_id": "1-aj1H2iET2QJCO6MXgakDmKVm0xjCLbO",
      "authorship_tag": "ABX9TyN7laOL41kZFC0ATWEgil+h",
      "include_colab_link": true
    },
    "kernelspec": {
      "name": "python3",
      "display_name": "Python 3"
    }
  },
  "cells": [
    {
      "cell_type": "markdown",
      "metadata": {
        "id": "view-in-github",
        "colab_type": "text"
      },
      "source": [
        "<a href=\"https://colab.research.google.com/github/zyberg2091/Knowledge-Tracing/blob/master/Knowledge_Tracing_(Time_series_analysis).ipynb\" target=\"_parent\"><img src=\"https://colab.research.google.com/assets/colab-badge.svg\" alt=\"Open In Colab\"/></a>"
      ]
    },
    {
      "cell_type": "code",
      "metadata": {
        "colab": {
          "base_uri": "https://localhost:8080/"
        },
        "id": "bnzrXSJdDd6b",
        "outputId": "1717afd8-e091-476c-f80f-2fdd248a207a"
      },
      "source": [
        "import os\r\n",
        "os.listdir('/root')"
      ],
      "execution_count": null,
      "outputs": [
        {
          "output_type": "execute_result",
          "data": {
            "text/plain": [
              "['.bashrc',\n",
              " '.profile',\n",
              " '.config',\n",
              " '.keras',\n",
              " '.local',\n",
              " '.tmux.conf',\n",
              " '.jupyter',\n",
              " '.cache',\n",
              " '.ipython',\n",
              " '.npm',\n",
              " '.gsutil']"
            ]
          },
          "metadata": {
            "tags": []
          },
          "execution_count": 1
        }
      ]
    },
    {
      "cell_type": "code",
      "metadata": {
        "id": "VReVh7__DXYE"
      },
      "source": [
        "!mkdir ~/.kaggle"
      ],
      "execution_count": null,
      "outputs": []
    },
    {
      "cell_type": "code",
      "metadata": {
        "id": "qGEdJb3j6cTh"
      },
      "source": [
        "!cp /content/drive/MyDrive/kaggle.json /root/.kaggle"
      ],
      "execution_count": null,
      "outputs": []
    },
    {
      "cell_type": "code",
      "metadata": {
        "id": "m705MJSQ6jP1"
      },
      "source": [
        "!chmod 600 /root/.kaggle/kaggle.json"
      ],
      "execution_count": null,
      "outputs": []
    },
    {
      "cell_type": "code",
      "metadata": {
        "id": "Ug5gWRfe6nCQ",
        "colab": {
          "base_uri": "https://localhost:8080/"
        },
        "outputId": "4823b044-540f-4606-915b-f3159746d6f7"
      },
      "source": [
        "!kaggle competitions download -c riiid-test-answer-prediction"
      ],
      "execution_count": null,
      "outputs": [
        {
          "output_type": "stream",
          "text": [
            "Warning: Looks like you're using an outdated API Version, please consider updating (server 1.5.10 / client 1.5.4)\n",
            "Downloading __init__.py to /content\n",
            "  0% 0.00/59.0 [00:00<?, ?B/s]\n",
            "100% 59.0/59.0 [00:00<00:00, 116kB/s]\n",
            "Downloading competition.cpython-37m-x86_64-linux-gnu.so to /content\n",
            "  0% 0.00/445k [00:00<?, ?B/s]\n",
            "100% 445k/445k [00:00<00:00, 60.9MB/s]\n",
            "Downloading questions.csv to /content\n",
            "  0% 0.00/289k [00:00<?, ?B/s]\n",
            "100% 289k/289k [00:00<00:00, 89.9MB/s]\n",
            "Downloading example_test.csv to /content\n",
            "  0% 0.00/5.99k [00:00<?, ?B/s]\n",
            "100% 5.99k/5.99k [00:00<00:00, 12.0MB/s]\n",
            "Downloading example_sample_submission.csv to /content\n",
            "  0% 0.00/971 [00:00<?, ?B/s]\n",
            "100% 971/971 [00:00<00:00, 677kB/s]\n",
            "Downloading train.csv.zip to /content\n",
            " 99% 1.28G/1.29G [00:14<00:00, 96.9MB/s]\n",
            "100% 1.29G/1.29G [00:14<00:00, 93.2MB/s]\n",
            "Downloading lectures.csv to /content\n",
            "  0% 0.00/9.48k [00:00<?, ?B/s]\n",
            "100% 9.48k/9.48k [00:00<00:00, 9.72MB/s]\n"
          ],
          "name": "stdout"
        }
      ]
    },
    {
      "cell_type": "code",
      "metadata": {
        "id": "dQsL5EN16u-9",
        "colab": {
          "base_uri": "https://localhost:8080/"
        },
        "outputId": "c75b9e30-c703-4af2-ae0f-835281a12d87"
      },
      "source": [
        "!unzip train.csv.zip"
      ],
      "execution_count": null,
      "outputs": [
        {
          "output_type": "stream",
          "text": [
            "Archive:  train.csv.zip\n",
            "  inflating: train.csv               \n"
          ],
          "name": "stdout"
        }
      ]
    },
    {
      "cell_type": "code",
      "metadata": {
        "id": "0ACEpp026vrJ"
      },
      "source": [
        "import pandas as pd\r\n",
        "import numpy as np"
      ],
      "execution_count": null,
      "outputs": []
    },
    {
      "cell_type": "code",
      "metadata": {
        "id": "GuiLl3h76ykM"
      },
      "source": [
        "df=pd.read_csv(\"train.csv\",nrows=100000)"
      ],
      "execution_count": null,
      "outputs": []
    },
    {
      "cell_type": "code",
      "metadata": {
        "id": "khl80GHJEyDO"
      },
      "source": [
        "df.to_csv('train_file.csv')"
      ],
      "execution_count": null,
      "outputs": []
    },
    {
      "cell_type": "code",
      "metadata": {
        "colab": {
          "base_uri": "https://localhost:8080/",
          "height": 195
        },
        "id": "eYK3BfJi658Z",
        "outputId": "340eea6a-1a55-4d11-f329-d0dd96c741a0"
      },
      "source": [
        "df.head()"
      ],
      "execution_count": null,
      "outputs": [
        {
          "output_type": "execute_result",
          "data": {
            "text/html": [
              "<div>\n",
              "<style scoped>\n",
              "    .dataframe tbody tr th:only-of-type {\n",
              "        vertical-align: middle;\n",
              "    }\n",
              "\n",
              "    .dataframe tbody tr th {\n",
              "        vertical-align: top;\n",
              "    }\n",
              "\n",
              "    .dataframe thead th {\n",
              "        text-align: right;\n",
              "    }\n",
              "</style>\n",
              "<table border=\"1\" class=\"dataframe\">\n",
              "  <thead>\n",
              "    <tr style=\"text-align: right;\">\n",
              "      <th></th>\n",
              "      <th>row_id</th>\n",
              "      <th>timestamp</th>\n",
              "      <th>user_id</th>\n",
              "      <th>content_id</th>\n",
              "      <th>content_type_id</th>\n",
              "      <th>task_container_id</th>\n",
              "      <th>user_answer</th>\n",
              "      <th>answered_correctly</th>\n",
              "      <th>prior_question_elapsed_time</th>\n",
              "      <th>prior_question_had_explanation</th>\n",
              "    </tr>\n",
              "  </thead>\n",
              "  <tbody>\n",
              "    <tr>\n",
              "      <th>0</th>\n",
              "      <td>0</td>\n",
              "      <td>0</td>\n",
              "      <td>115</td>\n",
              "      <td>5692</td>\n",
              "      <td>0</td>\n",
              "      <td>1</td>\n",
              "      <td>3</td>\n",
              "      <td>1</td>\n",
              "      <td>NaN</td>\n",
              "      <td>NaN</td>\n",
              "    </tr>\n",
              "    <tr>\n",
              "      <th>1</th>\n",
              "      <td>1</td>\n",
              "      <td>56943</td>\n",
              "      <td>115</td>\n",
              "      <td>5716</td>\n",
              "      <td>0</td>\n",
              "      <td>2</td>\n",
              "      <td>2</td>\n",
              "      <td>1</td>\n",
              "      <td>37000.0</td>\n",
              "      <td>False</td>\n",
              "    </tr>\n",
              "    <tr>\n",
              "      <th>2</th>\n",
              "      <td>2</td>\n",
              "      <td>118363</td>\n",
              "      <td>115</td>\n",
              "      <td>128</td>\n",
              "      <td>0</td>\n",
              "      <td>0</td>\n",
              "      <td>0</td>\n",
              "      <td>1</td>\n",
              "      <td>55000.0</td>\n",
              "      <td>False</td>\n",
              "    </tr>\n",
              "    <tr>\n",
              "      <th>3</th>\n",
              "      <td>3</td>\n",
              "      <td>131167</td>\n",
              "      <td>115</td>\n",
              "      <td>7860</td>\n",
              "      <td>0</td>\n",
              "      <td>3</td>\n",
              "      <td>0</td>\n",
              "      <td>1</td>\n",
              "      <td>19000.0</td>\n",
              "      <td>False</td>\n",
              "    </tr>\n",
              "    <tr>\n",
              "      <th>4</th>\n",
              "      <td>4</td>\n",
              "      <td>137965</td>\n",
              "      <td>115</td>\n",
              "      <td>7922</td>\n",
              "      <td>0</td>\n",
              "      <td>4</td>\n",
              "      <td>1</td>\n",
              "      <td>1</td>\n",
              "      <td>11000.0</td>\n",
              "      <td>False</td>\n",
              "    </tr>\n",
              "  </tbody>\n",
              "</table>\n",
              "</div>"
            ],
            "text/plain": [
              "   row_id  ...  prior_question_had_explanation\n",
              "0       0  ...                             NaN\n",
              "1       1  ...                           False\n",
              "2       2  ...                           False\n",
              "3       3  ...                           False\n",
              "4       4  ...                           False\n",
              "\n",
              "[5 rows x 10 columns]"
            ]
          },
          "metadata": {
            "tags": []
          },
          "execution_count": 9
        }
      ]
    },
    {
      "cell_type": "code",
      "metadata": {
        "colab": {
          "base_uri": "https://localhost:8080/",
          "height": 284
        },
        "id": "WcEaQrYq7TJ9",
        "outputId": "a44dd683-ea88-4721-f950-e7b759d46b5c"
      },
      "source": [
        "df.describe()"
      ],
      "execution_count": null,
      "outputs": [
        {
          "output_type": "execute_result",
          "data": {
            "text/html": [
              "<div>\n",
              "<style scoped>\n",
              "    .dataframe tbody tr th:only-of-type {\n",
              "        vertical-align: middle;\n",
              "    }\n",
              "\n",
              "    .dataframe tbody tr th {\n",
              "        vertical-align: top;\n",
              "    }\n",
              "\n",
              "    .dataframe thead th {\n",
              "        text-align: right;\n",
              "    }\n",
              "</style>\n",
              "<table border=\"1\" class=\"dataframe\">\n",
              "  <thead>\n",
              "    <tr style=\"text-align: right;\">\n",
              "      <th></th>\n",
              "      <th>row_id</th>\n",
              "      <th>timestamp</th>\n",
              "      <th>user_id</th>\n",
              "      <th>content_id</th>\n",
              "      <th>content_type_id</th>\n",
              "      <th>task_container_id</th>\n",
              "      <th>user_answer</th>\n",
              "      <th>answered_correctly</th>\n",
              "      <th>prior_question_elapsed_time</th>\n",
              "    </tr>\n",
              "  </thead>\n",
              "  <tbody>\n",
              "    <tr>\n",
              "      <th>count</th>\n",
              "      <td>100000.000000</td>\n",
              "      <td>1.000000e+05</td>\n",
              "      <td>1.000000e+05</td>\n",
              "      <td>100000.00000</td>\n",
              "      <td>100000.000000</td>\n",
              "      <td>100000.000000</td>\n",
              "      <td>100000.000000</td>\n",
              "      <td>100000.000000</td>\n",
              "      <td>97834.000000</td>\n",
              "    </tr>\n",
              "    <tr>\n",
              "      <th>mean</th>\n",
              "      <td>49999.500000</td>\n",
              "      <td>7.332661e+09</td>\n",
              "      <td>1.090868e+06</td>\n",
              "      <td>5156.21962</td>\n",
              "      <td>0.018180</td>\n",
              "      <td>974.593070</td>\n",
              "      <td>1.382490</td>\n",
              "      <td>0.655080</td>\n",
              "      <td>24715.389854</td>\n",
              "    </tr>\n",
              "    <tr>\n",
              "      <th>std</th>\n",
              "      <td>28867.657797</td>\n",
              "      <td>1.031230e+10</td>\n",
              "      <td>6.657180e+05</td>\n",
              "      <td>3896.63440</td>\n",
              "      <td>0.133603</td>\n",
              "      <td>1205.095836</td>\n",
              "      <td>1.193602</td>\n",
              "      <td>0.512165</td>\n",
              "      <td>17379.027689</td>\n",
              "    </tr>\n",
              "    <tr>\n",
              "      <th>min</th>\n",
              "      <td>0.000000</td>\n",
              "      <td>0.000000e+00</td>\n",
              "      <td>1.150000e+02</td>\n",
              "      <td>0.00000</td>\n",
              "      <td>0.000000</td>\n",
              "      <td>0.000000</td>\n",
              "      <td>-1.000000</td>\n",
              "      <td>-1.000000</td>\n",
              "      <td>0.000000</td>\n",
              "    </tr>\n",
              "    <tr>\n",
              "      <th>25%</th>\n",
              "      <td>24999.750000</td>\n",
              "      <td>6.595929e+08</td>\n",
              "      <td>4.590170e+05</td>\n",
              "      <td>1797.00000</td>\n",
              "      <td>0.000000</td>\n",
              "      <td>124.000000</td>\n",
              "      <td>0.000000</td>\n",
              "      <td>0.000000</td>\n",
              "      <td>16000.000000</td>\n",
              "    </tr>\n",
              "    <tr>\n",
              "      <th>50%</th>\n",
              "      <td>49999.500000</td>\n",
              "      <td>4.015927e+09</td>\n",
              "      <td>1.282581e+06</td>\n",
              "      <td>4980.00000</td>\n",
              "      <td>0.000000</td>\n",
              "      <td>458.000000</td>\n",
              "      <td>1.000000</td>\n",
              "      <td>1.000000</td>\n",
              "      <td>21000.000000</td>\n",
              "    </tr>\n",
              "    <tr>\n",
              "      <th>75%</th>\n",
              "      <td>74999.250000</td>\n",
              "      <td>1.000065e+10</td>\n",
              "      <td>1.567938e+06</td>\n",
              "      <td>7427.00000</td>\n",
              "      <td>0.000000</td>\n",
              "      <td>1358.000000</td>\n",
              "      <td>3.000000</td>\n",
              "      <td>1.000000</td>\n",
              "      <td>28666.000000</td>\n",
              "    </tr>\n",
              "    <tr>\n",
              "      <th>max</th>\n",
              "      <td>99999.000000</td>\n",
              "      <td>5.949531e+10</td>\n",
              "      <td>2.078569e+06</td>\n",
              "      <td>32736.00000</td>\n",
              "      <td>1.000000</td>\n",
              "      <td>5630.000000</td>\n",
              "      <td>3.000000</td>\n",
              "      <td>1.000000</td>\n",
              "      <td>300000.000000</td>\n",
              "    </tr>\n",
              "  </tbody>\n",
              "</table>\n",
              "</div>"
            ],
            "text/plain": [
              "              row_id  ...  prior_question_elapsed_time\n",
              "count  100000.000000  ...                 97834.000000\n",
              "mean    49999.500000  ...                 24715.389854\n",
              "std     28867.657797  ...                 17379.027689\n",
              "min         0.000000  ...                     0.000000\n",
              "25%     24999.750000  ...                 16000.000000\n",
              "50%     49999.500000  ...                 21000.000000\n",
              "75%     74999.250000  ...                 28666.000000\n",
              "max     99999.000000  ...                300000.000000\n",
              "\n",
              "[8 rows x 9 columns]"
            ]
          },
          "metadata": {
            "tags": []
          },
          "execution_count": 10
        }
      ]
    },
    {
      "cell_type": "code",
      "metadata": {
        "id": "HepSf-6TBBNM"
      },
      "source": [
        "df.drop(columns=['row_id'],inplace=True)"
      ],
      "execution_count": null,
      "outputs": []
    },
    {
      "cell_type": "code",
      "metadata": {
        "colab": {
          "base_uri": "https://localhost:8080/",
          "height": 195
        },
        "id": "CoUP5JIsvweQ",
        "outputId": "5d951104-9113-4e34-90e6-9aed0b836ca3"
      },
      "source": [
        "df.head()"
      ],
      "execution_count": null,
      "outputs": [
        {
          "output_type": "execute_result",
          "data": {
            "text/html": [
              "<div>\n",
              "<style scoped>\n",
              "    .dataframe tbody tr th:only-of-type {\n",
              "        vertical-align: middle;\n",
              "    }\n",
              "\n",
              "    .dataframe tbody tr th {\n",
              "        vertical-align: top;\n",
              "    }\n",
              "\n",
              "    .dataframe thead th {\n",
              "        text-align: right;\n",
              "    }\n",
              "</style>\n",
              "<table border=\"1\" class=\"dataframe\">\n",
              "  <thead>\n",
              "    <tr style=\"text-align: right;\">\n",
              "      <th></th>\n",
              "      <th>timestamp</th>\n",
              "      <th>user_id</th>\n",
              "      <th>content_id</th>\n",
              "      <th>content_type_id</th>\n",
              "      <th>task_container_id</th>\n",
              "      <th>user_answer</th>\n",
              "      <th>answered_correctly</th>\n",
              "      <th>prior_question_elapsed_time</th>\n",
              "      <th>prior_question_had_explanation</th>\n",
              "    </tr>\n",
              "  </thead>\n",
              "  <tbody>\n",
              "    <tr>\n",
              "      <th>0</th>\n",
              "      <td>0</td>\n",
              "      <td>115</td>\n",
              "      <td>5692</td>\n",
              "      <td>0</td>\n",
              "      <td>1</td>\n",
              "      <td>3</td>\n",
              "      <td>1</td>\n",
              "      <td>NaN</td>\n",
              "      <td>NaN</td>\n",
              "    </tr>\n",
              "    <tr>\n",
              "      <th>1</th>\n",
              "      <td>56943</td>\n",
              "      <td>115</td>\n",
              "      <td>5716</td>\n",
              "      <td>0</td>\n",
              "      <td>2</td>\n",
              "      <td>2</td>\n",
              "      <td>1</td>\n",
              "      <td>37000.0</td>\n",
              "      <td>False</td>\n",
              "    </tr>\n",
              "    <tr>\n",
              "      <th>2</th>\n",
              "      <td>118363</td>\n",
              "      <td>115</td>\n",
              "      <td>128</td>\n",
              "      <td>0</td>\n",
              "      <td>0</td>\n",
              "      <td>0</td>\n",
              "      <td>1</td>\n",
              "      <td>55000.0</td>\n",
              "      <td>False</td>\n",
              "    </tr>\n",
              "    <tr>\n",
              "      <th>3</th>\n",
              "      <td>131167</td>\n",
              "      <td>115</td>\n",
              "      <td>7860</td>\n",
              "      <td>0</td>\n",
              "      <td>3</td>\n",
              "      <td>0</td>\n",
              "      <td>1</td>\n",
              "      <td>19000.0</td>\n",
              "      <td>False</td>\n",
              "    </tr>\n",
              "    <tr>\n",
              "      <th>4</th>\n",
              "      <td>137965</td>\n",
              "      <td>115</td>\n",
              "      <td>7922</td>\n",
              "      <td>0</td>\n",
              "      <td>4</td>\n",
              "      <td>1</td>\n",
              "      <td>1</td>\n",
              "      <td>11000.0</td>\n",
              "      <td>False</td>\n",
              "    </tr>\n",
              "  </tbody>\n",
              "</table>\n",
              "</div>"
            ],
            "text/plain": [
              "   timestamp  ...  prior_question_had_explanation\n",
              "0          0  ...                             NaN\n",
              "1      56943  ...                           False\n",
              "2     118363  ...                           False\n",
              "3     131167  ...                           False\n",
              "4     137965  ...                           False\n",
              "\n",
              "[5 rows x 9 columns]"
            ]
          },
          "metadata": {
            "tags": []
          },
          "execution_count": 12
        }
      ]
    },
    {
      "cell_type": "code",
      "metadata": {
        "colab": {
          "base_uri": "https://localhost:8080/",
          "height": 350
        },
        "id": "Ch8CoV9CxHPo",
        "outputId": "c5347e83-e177-4be9-96ad-478015d4640f"
      },
      "source": [
        "import seaborn as sns\r\n",
        "\r\n",
        "sns.boxplot(df['timestamp'])"
      ],
      "execution_count": null,
      "outputs": [
        {
          "output_type": "stream",
          "text": [
            "/usr/local/lib/python3.6/dist-packages/seaborn/_decorators.py:43: FutureWarning: Pass the following variable as a keyword arg: x. From version 0.12, the only valid positional argument will be `data`, and passing other arguments without an explicit keyword will result in an error or misinterpretation.\n",
            "  FutureWarning\n"
          ],
          "name": "stderr"
        },
        {
          "output_type": "execute_result",
          "data": {
            "text/plain": [
              "<matplotlib.axes._subplots.AxesSubplot at 0x7f2dd297eda0>"
            ]
          },
          "metadata": {
            "tags": []
          },
          "execution_count": 13
        },
        {
          "output_type": "display_data",
          "data": {
            "image/png": "[encoded data removed]",
            "text/plain": [
              "<Figure size 432x288 with 1 Axes>"
            ]
          },
          "metadata": {
            "tags": [],
            "needs_background": "light"
          }
        }
      ]
    },
    {
      "cell_type": "markdown",
      "metadata": {
        "id": "8alYKfSHLF89"
      },
      "source": [
        " Too many outliers so am not ignoring outliers"
      ]
    },
    {
      "cell_type": "code",
      "metadata": {
        "colab": {
          "base_uri": "https://localhost:8080/"
        },
        "id": "eeah3_7rxuVr",
        "outputId": "b4eb17f2-2ca0-449e-9769-62441469af3d"
      },
      "source": [
        "df.info()"
      ],
      "execution_count": null,
      "outputs": [
        {
          "output_type": "stream",
          "text": [
            "<class 'pandas.core.frame.DataFrame'>\n",
            "RangeIndex: 100000 entries, 0 to 99999\n",
            "Data columns (total 9 columns):\n",
            " #   Column                          Non-Null Count   Dtype  \n",
            "---  ------                          --------------   -----  \n",
            " 0   timestamp                       100000 non-null  int64  \n",
            " 1   user_id                         100000 non-null  int64  \n",
            " 2   content_id                      100000 non-null  int64  \n",
            " 3   content_type_id                 100000 non-null  int64  \n",
            " 4   task_container_id               100000 non-null  int64  \n",
            " 5   user_answer                     100000 non-null  int64  \n",
            " 6   answered_correctly              100000 non-null  int64  \n",
            " 7   prior_question_elapsed_time     97834 non-null   float64\n",
            " 8   prior_question_had_explanation  99652 non-null   object \n",
            "dtypes: float64(1), int64(7), object(1)\n",
            "memory usage: 6.9+ MB\n"
          ],
          "name": "stdout"
        }
      ]
    },
    {
      "cell_type": "code",
      "metadata": {
        "colab": {
          "base_uri": "https://localhost:8080/"
        },
        "id": "V317LpH100pC",
        "outputId": "f0b6c977-91e3-4624-d38a-9e490d70ba08"
      },
      "source": [
        "df['user_answer'].unique()"
      ],
      "execution_count": null,
      "outputs": [
        {
          "output_type": "execute_result",
          "data": {
            "text/plain": [
              "array([ 3,  2,  0,  1, -1])"
            ]
          },
          "metadata": {
            "tags": []
          },
          "execution_count": 15
        }
      ]
    },
    {
      "cell_type": "code",
      "metadata": {
        "colab": {
          "base_uri": "https://localhost:8080/"
        },
        "id": "xPDhahh61DFN",
        "outputId": "bc2ec9ed-7bb3-408a-b345-4fe334739bd9"
      },
      "source": [
        "df['answered_correctly'].unique()"
      ],
      "execution_count": null,
      "outputs": [
        {
          "output_type": "execute_result",
          "data": {
            "text/plain": [
              "array([ 1,  0, -1])"
            ]
          },
          "metadata": {
            "tags": []
          },
          "execution_count": 16
        }
      ]
    },
    {
      "cell_type": "code",
      "metadata": {
        "colab": {
          "base_uri": "https://localhost:8080/"
        },
        "id": "q_Qft7ep0OFx",
        "outputId": "413803a5-467c-451c-81a3-4b78f1e5e867"
      },
      "source": [
        "len(df['user_id'].unique())"
      ],
      "execution_count": null,
      "outputs": [
        {
          "output_type": "execute_result",
          "data": {
            "text/plain": [
              "349"
            ]
          },
          "metadata": {
            "tags": []
          },
          "execution_count": 17
        }
      ]
    },
    {
      "cell_type": "code",
      "metadata": {
        "id": "XlfOyFthPLnw"
      },
      "source": [
        "df=df.rename(columns={'task_container_id' : 'question_bundle_id'})"
      ],
      "execution_count": null,
      "outputs": []
    },
    {
      "cell_type": "code",
      "metadata": {
        "colab": {
          "base_uri": "https://localhost:8080/"
        },
        "id": "mTWNF9cdm2TS",
        "outputId": "55ec64cf-0b75-4ae9-d899-39917cdd393a"
      },
      "source": [
        "len(df['question_bundle_id'].unique())"
      ],
      "execution_count": null,
      "outputs": [
        {
          "output_type": "execute_result",
          "data": {
            "text/plain": [
              "5631"
            ]
          },
          "metadata": {
            "tags": []
          },
          "execution_count": 19
        }
      ]
    },
    {
      "cell_type": "code",
      "metadata": {
        "colab": {
          "base_uri": "https://localhost:8080/",
          "height": 195
        },
        "id": "A4IqPONDQBli",
        "outputId": "dee9d660-ea27-4391-95bd-9cf798bffcb2"
      },
      "source": [
        "df.head()"
      ],
      "execution_count": null,
      "outputs": [
        {
          "output_type": "execute_result",
          "data": {
            "text/html": [
              "<div>\n",
              "<style scoped>\n",
              "    .dataframe tbody tr th:only-of-type {\n",
              "        vertical-align: middle;\n",
              "    }\n",
              "\n",
              "    .dataframe tbody tr th {\n",
              "        vertical-align: top;\n",
              "    }\n",
              "\n",
              "    .dataframe thead th {\n",
              "        text-align: right;\n",
              "    }\n",
              "</style>\n",
              "<table border=\"1\" class=\"dataframe\">\n",
              "  <thead>\n",
              "    <tr style=\"text-align: right;\">\n",
              "      <th></th>\n",
              "      <th>timestamp</th>\n",
              "      <th>user_id</th>\n",
              "      <th>content_id</th>\n",
              "      <th>content_type_id</th>\n",
              "      <th>question_bundle_id</th>\n",
              "      <th>user_answer</th>\n",
              "      <th>answered_correctly</th>\n",
              "      <th>prior_question_elapsed_time</th>\n",
              "      <th>prior_question_had_explanation</th>\n",
              "    </tr>\n",
              "  </thead>\n",
              "  <tbody>\n",
              "    <tr>\n",
              "      <th>0</th>\n",
              "      <td>0</td>\n",
              "      <td>115</td>\n",
              "      <td>5692</td>\n",
              "      <td>0</td>\n",
              "      <td>1</td>\n",
              "      <td>3</td>\n",
              "      <td>1</td>\n",
              "      <td>NaN</td>\n",
              "      <td>NaN</td>\n",
              "    </tr>\n",
              "    <tr>\n",
              "      <th>1</th>\n",
              "      <td>56943</td>\n",
              "      <td>115</td>\n",
              "      <td>5716</td>\n",
              "      <td>0</td>\n",
              "      <td>2</td>\n",
              "      <td>2</td>\n",
              "      <td>1</td>\n",
              "      <td>37000.0</td>\n",
              "      <td>False</td>\n",
              "    </tr>\n",
              "    <tr>\n",
              "      <th>2</th>\n",
              "      <td>118363</td>\n",
              "      <td>115</td>\n",
              "      <td>128</td>\n",
              "      <td>0</td>\n",
              "      <td>0</td>\n",
              "      <td>0</td>\n",
              "      <td>1</td>\n",
              "      <td>55000.0</td>\n",
              "      <td>False</td>\n",
              "    </tr>\n",
              "    <tr>\n",
              "      <th>3</th>\n",
              "      <td>131167</td>\n",
              "      <td>115</td>\n",
              "      <td>7860</td>\n",
              "      <td>0</td>\n",
              "      <td>3</td>\n",
              "      <td>0</td>\n",
              "      <td>1</td>\n",
              "      <td>19000.0</td>\n",
              "      <td>False</td>\n",
              "    </tr>\n",
              "    <tr>\n",
              "      <th>4</th>\n",
              "      <td>137965</td>\n",
              "      <td>115</td>\n",
              "      <td>7922</td>\n",
              "      <td>0</td>\n",
              "      <td>4</td>\n",
              "      <td>1</td>\n",
              "      <td>1</td>\n",
              "      <td>11000.0</td>\n",
              "      <td>False</td>\n",
              "    </tr>\n",
              "  </tbody>\n",
              "</table>\n",
              "</div>"
            ],
            "text/plain": [
              "   timestamp  ...  prior_question_had_explanation\n",
              "0          0  ...                             NaN\n",
              "1      56943  ...                           False\n",
              "2     118363  ...                           False\n",
              "3     131167  ...                           False\n",
              "4     137965  ...                           False\n",
              "\n",
              "[5 rows x 9 columns]"
            ]
          },
          "metadata": {
            "tags": []
          },
          "execution_count": 20
        }
      ]
    },
    {
      "cell_type": "markdown",
      "metadata": {
        "id": "krk5kHqjQboP"
      },
      "source": [
        "# **Common Features:**\r\n",
        "\r\n",
        "timestamp - It is the time at which user completes the task in          that particular interaction id. \r\n",
        "\r\n",
        "user_answer - user's answer to ques 0,1,2,3 and -1 for lectures going on.\r\n",
        "\r\n",
        "answered_correctly - corrrectly answered for question provided, -1 for lectures\r\n",
        "\r\n",
        "\r\n",
        "# **Identification Features:**\r\n",
        "\r\n",
        "user_id - specific user id token\r\n",
        "\r\n",
        "user_interaction_id - specific user_interaction_id token , -1 for lecture\r\n",
        "\r\n",
        "question_bundle_id - specific token for batch of questions provided to user\r\n",
        "\r\n",
        "\r\n"
      ]
    },
    {
      "cell_type": "code",
      "metadata": {
        "colab": {
          "base_uri": "https://localhost:8080/",
          "height": 297
        },
        "id": "kYFJmYeXduDj",
        "outputId": "dd73ec12-b338-49c0-cbdb-5939a6e21852"
      },
      "source": [
        "#user interactions\r\n",
        "sns.countplot(x=df['content_type_id'],data=df)   "
      ],
      "execution_count": null,
      "outputs": [
        {
          "output_type": "execute_result",
          "data": {
            "text/plain": [
              "<matplotlib.axes._subplots.AxesSubplot at 0x7f2dd28ea1d0>"
            ]
          },
          "metadata": {
            "tags": []
          },
          "execution_count": 21
        },
        {
          "output_type": "display_data",
          "data": {
            "image/png": "[encoded data removed]",
            "text/plain": [
              "<Figure size 432x288 with 1 Axes>"
            ]
          },
          "metadata": {
            "tags": [],
            "needs_background": "light"
          }
        }
      ]
    },
    {
      "cell_type": "markdown",
      "metadata": {
        "id": "_2-ZdgsKeVh8"
      },
      "source": [
        "Now lets try to see first three users "
      ]
    },
    {
      "cell_type": "code",
      "metadata": {
        "id": "2h8JO8kFNPBo"
      },
      "source": [
        "grp=df.groupby(['user_id'])"
      ],
      "execution_count": null,
      "outputs": []
    },
    {
      "cell_type": "code",
      "metadata": {
        "colab": {
          "base_uri": "https://localhost:8080/"
        },
        "id": "Mx8K0J5aTg2x",
        "outputId": "f388dbd9-6c88-41b3-be60-494e4b09f4d7"
      },
      "source": [
        "df['user_id'].unique()[:3]"
      ],
      "execution_count": null,
      "outputs": [
        {
          "output_type": "execute_result",
          "data": {
            "text/plain": [
              "array([ 115,  124, 2746])"
            ]
          },
          "metadata": {
            "tags": []
          },
          "execution_count": 23
        }
      ]
    },
    {
      "cell_type": "code",
      "metadata": {
        "id": "RGBcZ_o8f5fD"
      },
      "source": [
        "a,b,c=grp.get_group(115).reset_index(),grp.get_group(124).reset_index(),grp.get_group(2746).reset_index()"
      ],
      "execution_count": null,
      "outputs": []
    },
    {
      "cell_type": "code",
      "metadata": {
        "id": "5Ut_D15ONu83"
      },
      "source": [
        "vis=pd.concat([a,b,c],ignore_index=True)"
      ],
      "execution_count": null,
      "outputs": []
    },
    {
      "cell_type": "code",
      "metadata": {
        "colab": {
          "base_uri": "https://localhost:8080/",
          "height": 195
        },
        "id": "nA1KyiN2hYdO",
        "outputId": "cb40ad8f-7d4e-45e4-9a60-449951be20ef"
      },
      "source": [
        "vis.head()"
      ],
      "execution_count": null,
      "outputs": [
        {
          "output_type": "execute_result",
          "data": {
            "text/html": [
              "<div>\n",
              "<style scoped>\n",
              "    .dataframe tbody tr th:only-of-type {\n",
              "        vertical-align: middle;\n",
              "    }\n",
              "\n",
              "    .dataframe tbody tr th {\n",
              "        vertical-align: top;\n",
              "    }\n",
              "\n",
              "    .dataframe thead th {\n",
              "        text-align: right;\n",
              "    }\n",
              "</style>\n",
              "<table border=\"1\" class=\"dataframe\">\n",
              "  <thead>\n",
              "    <tr style=\"text-align: right;\">\n",
              "      <th></th>\n",
              "      <th>index</th>\n",
              "      <th>timestamp</th>\n",
              "      <th>user_id</th>\n",
              "      <th>content_id</th>\n",
              "      <th>content_type_id</th>\n",
              "      <th>question_bundle_id</th>\n",
              "      <th>user_answer</th>\n",
              "      <th>answered_correctly</th>\n",
              "      <th>prior_question_elapsed_time</th>\n",
              "      <th>prior_question_had_explanation</th>\n",
              "    </tr>\n",
              "  </thead>\n",
              "  <tbody>\n",
              "    <tr>\n",
              "      <th>0</th>\n",
              "      <td>0</td>\n",
              "      <td>0</td>\n",
              "      <td>115</td>\n",
              "      <td>5692</td>\n",
              "      <td>0</td>\n",
              "      <td>1</td>\n",
              "      <td>3</td>\n",
              "      <td>1</td>\n",
              "      <td>NaN</td>\n",
              "      <td>NaN</td>\n",
              "    </tr>\n",
              "    <tr>\n",
              "      <th>1</th>\n",
              "      <td>1</td>\n",
              "      <td>56943</td>\n",
              "      <td>115</td>\n",
              "      <td>5716</td>\n",
              "      <td>0</td>\n",
              "      <td>2</td>\n",
              "      <td>2</td>\n",
              "      <td>1</td>\n",
              "      <td>37000.0</td>\n",
              "      <td>False</td>\n",
              "    </tr>\n",
              "    <tr>\n",
              "      <th>2</th>\n",
              "      <td>2</td>\n",
              "      <td>118363</td>\n",
              "      <td>115</td>\n",
              "      <td>128</td>\n",
              "      <td>0</td>\n",
              "      <td>0</td>\n",
              "      <td>0</td>\n",
              "      <td>1</td>\n",
              "      <td>55000.0</td>\n",
              "      <td>False</td>\n",
              "    </tr>\n",
              "    <tr>\n",
              "      <th>3</th>\n",
              "      <td>3</td>\n",
              "      <td>131167</td>\n",
              "      <td>115</td>\n",
              "      <td>7860</td>\n",
              "      <td>0</td>\n",
              "      <td>3</td>\n",
              "      <td>0</td>\n",
              "      <td>1</td>\n",
              "      <td>19000.0</td>\n",
              "      <td>False</td>\n",
              "    </tr>\n",
              "    <tr>\n",
              "      <th>4</th>\n",
              "      <td>4</td>\n",
              "      <td>137965</td>\n",
              "      <td>115</td>\n",
              "      <td>7922</td>\n",
              "      <td>0</td>\n",
              "      <td>4</td>\n",
              "      <td>1</td>\n",
              "      <td>1</td>\n",
              "      <td>11000.0</td>\n",
              "      <td>False</td>\n",
              "    </tr>\n",
              "  </tbody>\n",
              "</table>\n",
              "</div>"
            ],
            "text/plain": [
              "   index  timestamp  ...  prior_question_elapsed_time  prior_question_had_explanation\n",
              "0      0          0  ...                          NaN                             NaN\n",
              "1      1      56943  ...                      37000.0                           False\n",
              "2      2     118363  ...                      55000.0                           False\n",
              "3      3     131167  ...                      19000.0                           False\n",
              "4      4     137965  ...                      11000.0                           False\n",
              "\n",
              "[5 rows x 10 columns]"
            ]
          },
          "metadata": {
            "tags": []
          },
          "execution_count": 26
        }
      ]
    },
    {
      "cell_type": "code",
      "metadata": {
        "colab": {
          "base_uri": "https://localhost:8080/",
          "height": 298
        },
        "id": "MlXQbu7JfPTc",
        "outputId": "d70549af-4429-4c0f-f314-f778bf034940"
      },
      "source": [
        "vis['user_id'].value_counts().plot(kind='bar')  # interactions of specific users"
      ],
      "execution_count": null,
      "outputs": [
        {
          "output_type": "execute_result",
          "data": {
            "text/plain": [
              "<matplotlib.axes._subplots.AxesSubplot at 0x7f2dd23895f8>"
            ]
          },
          "metadata": {
            "tags": []
          },
          "execution_count": 27
        },
        {
          "output_type": "display_data",
          "data": {
            "image/png": "[encoded data removed]",
            "text/plain": [
              "<Figure size 432x288 with 1 Axes>"
            ]
          },
          "metadata": {
            "tags": [],
            "needs_background": "light"
          }
        }
      ]
    },
    {
      "cell_type": "code",
      "metadata": {
        "id": "bSsEBYPInyiZ"
      },
      "source": [
        "#Analyzing user's answer to all the question label \r\n",
        "alpha=vis['user_answer'][vis['user_id']==115].value_counts()"
      ],
      "execution_count": null,
      "outputs": []
    },
    {
      "cell_type": "code",
      "metadata": {
        "colab": {
          "base_uri": "https://localhost:8080/"
        },
        "id": "3HsEa-BE3fx6",
        "outputId": "8486c30d-04ac-4e50-c23a-4f6e07f384a8"
      },
      "source": [
        "alpha"
      ],
      "execution_count": null,
      "outputs": [
        {
          "output_type": "execute_result",
          "data": {
            "text/plain": [
              "3    13\n",
              "2    11\n",
              "1    11\n",
              "0    11\n",
              "Name: user_answer, dtype: int64"
            ]
          },
          "metadata": {
            "tags": []
          },
          "execution_count": 29
        }
      ]
    },
    {
      "cell_type": "code",
      "metadata": {
        "id": "Zw66ZV9jkYbb"
      },
      "source": [
        "#for user 115,124,2746 let's compare\r\n",
        "\r\n",
        "v=pd.DataFrame({115 : vis['user_answer'][vis['user_id']==115].value_counts() ,\r\n",
        "                124 : vis['user_answer'][vis['user_id']==124].value_counts(),\r\n",
        "               2746 : vis['user_answer'][vis['user_id']==2746].value_counts()} , index=[-1,0,1,2,3])\r\n"
      ],
      "execution_count": null,
      "outputs": []
    },
    {
      "cell_type": "code",
      "metadata": {
        "colab": {
          "base_uri": "https://localhost:8080/",
          "height": 195
        },
        "id": "YXICTnVMyqGD",
        "outputId": "05ee405b-f839-4862-f09c-b5c346154ab2"
      },
      "source": [
        "v.fillna(0)"
      ],
      "execution_count": null,
      "outputs": [
        {
          "output_type": "execute_result",
          "data": {
            "text/html": [
              "<div>\n",
              "<style scoped>\n",
              "    .dataframe tbody tr th:only-of-type {\n",
              "        vertical-align: middle;\n",
              "    }\n",
              "\n",
              "    .dataframe tbody tr th {\n",
              "        vertical-align: top;\n",
              "    }\n",
              "\n",
              "    .dataframe thead th {\n",
              "        text-align: right;\n",
              "    }\n",
              "</style>\n",
              "<table border=\"1\" class=\"dataframe\">\n",
              "  <thead>\n",
              "    <tr style=\"text-align: right;\">\n",
              "      <th></th>\n",
              "      <th>115</th>\n",
              "      <th>124</th>\n",
              "      <th>2746</th>\n",
              "    </tr>\n",
              "  </thead>\n",
              "  <tbody>\n",
              "    <tr>\n",
              "      <th>-1</th>\n",
              "      <td>0.0</td>\n",
              "      <td>0.0</td>\n",
              "      <td>1.0</td>\n",
              "    </tr>\n",
              "    <tr>\n",
              "      <th>0</th>\n",
              "      <td>11.0</td>\n",
              "      <td>7.0</td>\n",
              "      <td>7.0</td>\n",
              "    </tr>\n",
              "    <tr>\n",
              "      <th>1</th>\n",
              "      <td>11.0</td>\n",
              "      <td>6.0</td>\n",
              "      <td>2.0</td>\n",
              "    </tr>\n",
              "    <tr>\n",
              "      <th>2</th>\n",
              "      <td>11.0</td>\n",
              "      <td>8.0</td>\n",
              "      <td>0.0</td>\n",
              "    </tr>\n",
              "    <tr>\n",
              "      <th>3</th>\n",
              "      <td>13.0</td>\n",
              "      <td>9.0</td>\n",
              "      <td>10.0</td>\n",
              "    </tr>\n",
              "  </tbody>\n",
              "</table>\n",
              "</div>"
            ],
            "text/plain": [
              "    115   124   2746\n",
              "-1   0.0   0.0   1.0\n",
              " 0  11.0   7.0   7.0\n",
              " 1  11.0   6.0   2.0\n",
              " 2  11.0   8.0   0.0\n",
              " 3  13.0   9.0  10.0"
            ]
          },
          "metadata": {
            "tags": []
          },
          "execution_count": 31
        }
      ]
    },
    {
      "cell_type": "code",
      "metadata": {
        "id": "23c0mol5uPUy"
      },
      "source": [
        "import matplotlib.pyplot as plt\r\n"
      ],
      "execution_count": null,
      "outputs": []
    },
    {
      "cell_type": "code",
      "metadata": {
        "colab": {
          "base_uri": "https://localhost:8080/",
          "height": 296
        },
        "id": "HhU4kUKAity4",
        "outputId": "e3d9df9a-1219-4802-a39b-082283484a13"
      },
      "source": [
        "v.plot(kind='bar')    # users answers on different options ignore -1,its for lecture\r\n",
        "\r\n",
        "plt.xlabel('question label')\r\n",
        "plt.ylabel('count')"
      ],
      "execution_count": null,
      "outputs": [
        {
          "output_type": "execute_result",
          "data": {
            "text/plain": [
              "Text(0, 0.5, 'count')"
            ]
          },
          "metadata": {
            "tags": []
          },
          "execution_count": 33
        },
        {
          "output_type": "display_data",
          "data": {
            "image/png": "[encoded data removed]",
            "text/plain": [
              "<Figure size 432x288 with 1 Axes>"
            ]
          },
          "metadata": {
            "tags": [],
            "needs_background": "light"
          }
        }
      ]
    },
    {
      "cell_type": "markdown",
      "metadata": {
        "id": "fvzZo4X1l7CE"
      },
      "source": [
        "User 115 attempted most no. of questions among the three\r\n"
      ]
    },
    {
      "cell_type": "code",
      "metadata": {
        "colab": {
          "base_uri": "https://localhost:8080/",
          "height": 302
        },
        "id": "VBOiCz1I-QYA",
        "outputId": "cf6fb32a-5712-4e16-d671-08fe06127a6a"
      },
      "source": [
        "import matplotlib.pyplot as plt\r\n",
        "\r\n",
        "# users 115,124,2746 answers evaluation\r\n",
        "\r\n",
        "vis['answered_correctly'][vis['user_id']==115].value_counts().plot(kind='bar')\r\n",
        "plt.xlabel('user_115',fontsize=20)\r\n",
        "\r\n"
      ],
      "execution_count": null,
      "outputs": [
        {
          "output_type": "execute_result",
          "data": {
            "text/plain": [
              "Text(0.5, 0, 'user_115')"
            ]
          },
          "metadata": {
            "tags": []
          },
          "execution_count": 34
        },
        {
          "output_type": "display_data",
          "data": {
            "image/png": "[encoded data removed]",
            "text/plain": [
              "<Figure size 432x288 with 1 Axes>"
            ]
          },
          "metadata": {
            "tags": [],
            "needs_background": "light"
          }
        }
      ]
    },
    {
      "cell_type": "code",
      "metadata": {
        "colab": {
          "base_uri": "https://localhost:8080/",
          "height": 302
        },
        "id": "70oeRHwHBa5C",
        "outputId": "d9302ce0-6262-4fea-b3f5-c6854ff275f3"
      },
      "source": [
        "vis['answered_correctly'][vis['user_id']==124].value_counts().plot(kind='bar')\r\n",
        "plt.xlabel('user_124',fontsize=20)"
      ],
      "execution_count": null,
      "outputs": [
        {
          "output_type": "execute_result",
          "data": {
            "text/plain": [
              "Text(0.5, 0, 'user_124')"
            ]
          },
          "metadata": {
            "tags": []
          },
          "execution_count": 35
        },
        {
          "output_type": "display_data",
          "data": {
            "image/png": "[encoded data removed]",
            "text/plain": [
              "<Figure size 432x288 with 1 Axes>"
            ]
          },
          "metadata": {
            "tags": [],
            "needs_background": "light"
          }
        }
      ]
    },
    {
      "cell_type": "code",
      "metadata": {
        "colab": {
          "base_uri": "https://localhost:8080/",
          "height": 305
        },
        "id": "tc5lEYVqAJwI",
        "outputId": "4d47291e-40e3-4287-ebb3-6432eba92008"
      },
      "source": [
        "vis['answered_correctly'][vis['user_id']==2746].value_counts().plot(kind='bar')\r\n",
        "plt.xlabel('user_2746',fontsize=20)"
      ],
      "execution_count": null,
      "outputs": [
        {
          "output_type": "execute_result",
          "data": {
            "text/plain": [
              "Text(0.5, 0, 'user_2746')"
            ]
          },
          "metadata": {
            "tags": []
          },
          "execution_count": 36
        },
        {
          "output_type": "display_data",
          "data": {
            "image/png": "[encoded data removed]",
            "text/plain": [
              "<Figure size 432x288 with 1 Axes>"
            ]
          },
          "metadata": {
            "tags": [],
            "needs_background": "light"
          }
        }
      ]
    },
    {
      "cell_type": "code",
      "metadata": {
        "id": "Jxhrvr5qBoTs"
      },
      "source": [
        "#Now we have a idea of data distribution a little bit we move on again to large dataset for EDA\r\n",
        "\r\n",
        "# Task 1 \r\n",
        "# Remove the info about lectures from dataset\r\n",
        "\r\n"
      ],
      "execution_count": null,
      "outputs": []
    },
    {
      "cell_type": "code",
      "metadata": {
        "colab": {
          "base_uri": "https://localhost:8080/"
        },
        "id": "loHXhDzgDkFz",
        "outputId": "65f93281-4386-4f06-b4bb-afc448799ffd"
      },
      "source": [
        "df.columns"
      ],
      "execution_count": null,
      "outputs": [
        {
          "output_type": "execute_result",
          "data": {
            "text/plain": [
              "Index(['timestamp', 'user_id', 'content_id', 'content_type_id',\n",
              "       'question_bundle_id', 'user_answer', 'answered_correctly',\n",
              "       'prior_question_elapsed_time', 'prior_question_had_explanation'],\n",
              "      dtype='object')"
            ]
          },
          "metadata": {
            "tags": []
          },
          "execution_count": 38
        }
      ]
    },
    {
      "cell_type": "code",
      "metadata": {
        "colab": {
          "base_uri": "https://localhost:8080/"
        },
        "id": "xKGlCnrmT63B",
        "outputId": "5207d03f-f76d-43c1-f921-5992dff604a6"
      },
      "source": [
        "print(f'We have {df.content_id.nunique()} content ids in our train set, of which {df[df.content_type_id == 0].content_id.nunique()} are questions.')"
      ],
      "execution_count": null,
      "outputs": [
        {
          "output_type": "stream",
          "text": [
            "We have 11532 content ids in our train set, of which 11321 are questions.\n"
          ],
          "name": "stdout"
        }
      ]
    },
    {
      "cell_type": "code",
      "metadata": {
        "id": "snwQ2jgRDk90"
      },
      "source": [
        "df=df[df['content_type_id']==0]           # 1 is for lectures so we remove it\r\n"
      ],
      "execution_count": null,
      "outputs": []
    },
    {
      "cell_type": "code",
      "metadata": {
        "colab": {
          "base_uri": "https://localhost:8080/",
          "height": 297
        },
        "id": "IlCtg6qdf9nX",
        "outputId": "f38bd645-9ab3-41fb-ebfb-5b158a2996e9"
      },
      "source": [
        "sns.countplot(x=df['content_type_id'],data=df)   "
      ],
      "execution_count": null,
      "outputs": [
        {
          "output_type": "execute_result",
          "data": {
            "text/plain": [
              "<matplotlib.axes._subplots.AxesSubplot at 0x7f2dd1751eb8>"
            ]
          },
          "metadata": {
            "tags": []
          },
          "execution_count": 41
        },
        {
          "output_type": "display_data",
          "data": {
            "image/png": "[encoded data removed]",
            "text/plain": [
              "<Figure size 432x288 with 1 Axes>"
            ]
          },
          "metadata": {
            "tags": [],
            "needs_background": "light"
          }
        }
      ]
    },
    {
      "cell_type": "code",
      "metadata": {
        "id": "VVyCOTnVEEZ0",
        "colab": {
          "base_uri": "https://localhost:8080/",
          "height": 1000
        },
        "outputId": "78071736-d136-4576-a77a-597273c22867"
      },
      "source": [
        "df.head(50)"
      ],
      "execution_count": null,
      "outputs": [
        {
          "output_type": "execute_result",
          "data": {
            "text/html": [
              "<div>\n",
              "<style scoped>\n",
              "    .dataframe tbody tr th:only-of-type {\n",
              "        vertical-align: middle;\n",
              "    }\n",
              "\n",
              "    .dataframe tbody tr th {\n",
              "        vertical-align: top;\n",
              "    }\n",
              "\n",
              "    .dataframe thead th {\n",
              "        text-align: right;\n",
              "    }\n",
              "</style>\n",
              "<table border=\"1\" class=\"dataframe\">\n",
              "  <thead>\n",
              "    <tr style=\"text-align: right;\">\n",
              "      <th></th>\n",
              "      <th>timestamp</th>\n",
              "      <th>user_id</th>\n",
              "      <th>content_id</th>\n",
              "      <th>content_type_id</th>\n",
              "      <th>question_bundle_id</th>\n",
              "      <th>user_answer</th>\n",
              "      <th>answered_correctly</th>\n",
              "      <th>prior_question_elapsed_time</th>\n",
              "      <th>prior_question_had_explanation</th>\n",
              "    </tr>\n",
              "  </thead>\n",
              "  <tbody>\n",
              "    <tr>\n",
              "      <th>0</th>\n",
              "      <td>0</td>\n",
              "      <td>115</td>\n",
              "      <td>5692</td>\n",
              "      <td>0</td>\n",
              "      <td>1</td>\n",
              "      <td>3</td>\n",
              "      <td>1</td>\n",
              "      <td>NaN</td>\n",
              "      <td>NaN</td>\n",
              "    </tr>\n",
              "    <tr>\n",
              "      <th>1</th>\n",
              "      <td>56943</td>\n",
              "      <td>115</td>\n",
              "      <td>5716</td>\n",
              "      <td>0</td>\n",
              "      <td>2</td>\n",
              "      <td>2</td>\n",
              "      <td>1</td>\n",
              "      <td>37000.0</td>\n",
              "      <td>False</td>\n",
              "    </tr>\n",
              "    <tr>\n",
              "      <th>2</th>\n",
              "      <td>118363</td>\n",
              "      <td>115</td>\n",
              "      <td>128</td>\n",
              "      <td>0</td>\n",
              "      <td>0</td>\n",
              "      <td>0</td>\n",
              "      <td>1</td>\n",
              "      <td>55000.0</td>\n",
              "      <td>False</td>\n",
              "    </tr>\n",
              "    <tr>\n",
              "      <th>3</th>\n",
              "      <td>131167</td>\n",
              "      <td>115</td>\n",
              "      <td>7860</td>\n",
              "      <td>0</td>\n",
              "      <td>3</td>\n",
              "      <td>0</td>\n",
              "      <td>1</td>\n",
              "      <td>19000.0</td>\n",
              "      <td>False</td>\n",
              "    </tr>\n",
              "    <tr>\n",
              "      <th>4</th>\n",
              "      <td>137965</td>\n",
              "      <td>115</td>\n",
              "      <td>7922</td>\n",
              "      <td>0</td>\n",
              "      <td>4</td>\n",
              "      <td>1</td>\n",
              "      <td>1</td>\n",
              "      <td>11000.0</td>\n",
              "      <td>False</td>\n",
              "    </tr>\n",
              "    <tr>\n",
              "      <th>5</th>\n",
              "      <td>157063</td>\n",
              "      <td>115</td>\n",
              "      <td>156</td>\n",
              "      <td>0</td>\n",
              "      <td>5</td>\n",
              "      <td>2</td>\n",
              "      <td>1</td>\n",
              "      <td>5000.0</td>\n",
              "      <td>False</td>\n",
              "    </tr>\n",
              "    <tr>\n",
              "      <th>6</th>\n",
              "      <td>176092</td>\n",
              "      <td>115</td>\n",
              "      <td>51</td>\n",
              "      <td>0</td>\n",
              "      <td>6</td>\n",
              "      <td>0</td>\n",
              "      <td>1</td>\n",
              "      <td>17000.0</td>\n",
              "      <td>False</td>\n",
              "    </tr>\n",
              "    <tr>\n",
              "      <th>7</th>\n",
              "      <td>194190</td>\n",
              "      <td>115</td>\n",
              "      <td>50</td>\n",
              "      <td>0</td>\n",
              "      <td>7</td>\n",
              "      <td>3</td>\n",
              "      <td>1</td>\n",
              "      <td>17000.0</td>\n",
              "      <td>False</td>\n",
              "    </tr>\n",
              "    <tr>\n",
              "      <th>8</th>\n",
              "      <td>212463</td>\n",
              "      <td>115</td>\n",
              "      <td>7896</td>\n",
              "      <td>0</td>\n",
              "      <td>8</td>\n",
              "      <td>2</td>\n",
              "      <td>1</td>\n",
              "      <td>16000.0</td>\n",
              "      <td>False</td>\n",
              "    </tr>\n",
              "    <tr>\n",
              "      <th>9</th>\n",
              "      <td>230983</td>\n",
              "      <td>115</td>\n",
              "      <td>7863</td>\n",
              "      <td>0</td>\n",
              "      <td>9</td>\n",
              "      <td>0</td>\n",
              "      <td>1</td>\n",
              "      <td>16000.0</td>\n",
              "      <td>False</td>\n",
              "    </tr>\n",
              "    <tr>\n",
              "      <th>10</th>\n",
              "      <td>255381</td>\n",
              "      <td>115</td>\n",
              "      <td>152</td>\n",
              "      <td>0</td>\n",
              "      <td>10</td>\n",
              "      <td>2</td>\n",
              "      <td>0</td>\n",
              "      <td>17000.0</td>\n",
              "      <td>False</td>\n",
              "    </tr>\n",
              "    <tr>\n",
              "      <th>11</th>\n",
              "      <td>280033</td>\n",
              "      <td>115</td>\n",
              "      <td>104</td>\n",
              "      <td>0</td>\n",
              "      <td>11</td>\n",
              "      <td>1</td>\n",
              "      <td>0</td>\n",
              "      <td>22000.0</td>\n",
              "      <td>False</td>\n",
              "    </tr>\n",
              "    <tr>\n",
              "      <th>12</th>\n",
              "      <td>302994</td>\n",
              "      <td>115</td>\n",
              "      <td>108</td>\n",
              "      <td>0</td>\n",
              "      <td>12</td>\n",
              "      <td>1</td>\n",
              "      <td>0</td>\n",
              "      <td>23000.0</td>\n",
              "      <td>False</td>\n",
              "    </tr>\n",
              "    <tr>\n",
              "      <th>13</th>\n",
              "      <td>328686</td>\n",
              "      <td>115</td>\n",
              "      <td>7900</td>\n",
              "      <td>0</td>\n",
              "      <td>13</td>\n",
              "      <td>0</td>\n",
              "      <td>1</td>\n",
              "      <td>21000.0</td>\n",
              "      <td>False</td>\n",
              "    </tr>\n",
              "    <tr>\n",
              "      <th>14</th>\n",
              "      <td>352686</td>\n",
              "      <td>115</td>\n",
              "      <td>7901</td>\n",
              "      <td>0</td>\n",
              "      <td>14</td>\n",
              "      <td>1</td>\n",
              "      <td>1</td>\n",
              "      <td>24000.0</td>\n",
              "      <td>False</td>\n",
              "    </tr>\n",
              "    <tr>\n",
              "      <th>15</th>\n",
              "      <td>376162</td>\n",
              "      <td>115</td>\n",
              "      <td>7971</td>\n",
              "      <td>0</td>\n",
              "      <td>15</td>\n",
              "      <td>2</td>\n",
              "      <td>1</td>\n",
              "      <td>22000.0</td>\n",
              "      <td>False</td>\n",
              "    </tr>\n",
              "    <tr>\n",
              "      <th>16</th>\n",
              "      <td>398020</td>\n",
              "      <td>115</td>\n",
              "      <td>25</td>\n",
              "      <td>0</td>\n",
              "      <td>16</td>\n",
              "      <td>1</td>\n",
              "      <td>1</td>\n",
              "      <td>21000.0</td>\n",
              "      <td>False</td>\n",
              "    </tr>\n",
              "    <tr>\n",
              "      <th>17</th>\n",
              "      <td>418008</td>\n",
              "      <td>115</td>\n",
              "      <td>183</td>\n",
              "      <td>0</td>\n",
              "      <td>17</td>\n",
              "      <td>0</td>\n",
              "      <td>0</td>\n",
              "      <td>20000.0</td>\n",
              "      <td>False</td>\n",
              "    </tr>\n",
              "    <tr>\n",
              "      <th>18</th>\n",
              "      <td>437272</td>\n",
              "      <td>115</td>\n",
              "      <td>7926</td>\n",
              "      <td>0</td>\n",
              "      <td>18</td>\n",
              "      <td>1</td>\n",
              "      <td>1</td>\n",
              "      <td>18000.0</td>\n",
              "      <td>False</td>\n",
              "    </tr>\n",
              "    <tr>\n",
              "      <th>19</th>\n",
              "      <td>468511</td>\n",
              "      <td>115</td>\n",
              "      <td>7927</td>\n",
              "      <td>0</td>\n",
              "      <td>19</td>\n",
              "      <td>3</td>\n",
              "      <td>1</td>\n",
              "      <td>17000.0</td>\n",
              "      <td>False</td>\n",
              "    </tr>\n",
              "    <tr>\n",
              "      <th>20</th>\n",
              "      <td>490100</td>\n",
              "      <td>115</td>\n",
              "      <td>4</td>\n",
              "      <td>0</td>\n",
              "      <td>20</td>\n",
              "      <td>1</td>\n",
              "      <td>0</td>\n",
              "      <td>29000.0</td>\n",
              "      <td>False</td>\n",
              "    </tr>\n",
              "    <tr>\n",
              "      <th>21</th>\n",
              "      <td>510583</td>\n",
              "      <td>115</td>\n",
              "      <td>7984</td>\n",
              "      <td>0</td>\n",
              "      <td>21</td>\n",
              "      <td>3</td>\n",
              "      <td>0</td>\n",
              "      <td>20000.0</td>\n",
              "      <td>False</td>\n",
              "    </tr>\n",
              "    <tr>\n",
              "      <th>22</th>\n",
              "      <td>534187</td>\n",
              "      <td>115</td>\n",
              "      <td>45</td>\n",
              "      <td>0</td>\n",
              "      <td>22</td>\n",
              "      <td>2</td>\n",
              "      <td>0</td>\n",
              "      <td>19000.0</td>\n",
              "      <td>False</td>\n",
              "    </tr>\n",
              "    <tr>\n",
              "      <th>23</th>\n",
              "      <td>557677</td>\n",
              "      <td>115</td>\n",
              "      <td>185</td>\n",
              "      <td>0</td>\n",
              "      <td>23</td>\n",
              "      <td>3</td>\n",
              "      <td>0</td>\n",
              "      <td>21000.0</td>\n",
              "      <td>False</td>\n",
              "    </tr>\n",
              "    <tr>\n",
              "      <th>24</th>\n",
              "      <td>575289</td>\n",
              "      <td>115</td>\n",
              "      <td>55</td>\n",
              "      <td>0</td>\n",
              "      <td>24</td>\n",
              "      <td>3</td>\n",
              "      <td>1</td>\n",
              "      <td>22000.0</td>\n",
              "      <td>False</td>\n",
              "    </tr>\n",
              "    <tr>\n",
              "      <th>25</th>\n",
              "      <td>597863</td>\n",
              "      <td>115</td>\n",
              "      <td>7876</td>\n",
              "      <td>0</td>\n",
              "      <td>25</td>\n",
              "      <td>3</td>\n",
              "      <td>1</td>\n",
              "      <td>16000.0</td>\n",
              "      <td>False</td>\n",
              "    </tr>\n",
              "    <tr>\n",
              "      <th>26</th>\n",
              "      <td>621464</td>\n",
              "      <td>115</td>\n",
              "      <td>6</td>\n",
              "      <td>0</td>\n",
              "      <td>26</td>\n",
              "      <td>2</td>\n",
              "      <td>1</td>\n",
              "      <td>20000.0</td>\n",
              "      <td>False</td>\n",
              "    </tr>\n",
              "    <tr>\n",
              "      <th>27</th>\n",
              "      <td>645415</td>\n",
              "      <td>115</td>\n",
              "      <td>172</td>\n",
              "      <td>0</td>\n",
              "      <td>27</td>\n",
              "      <td>1</td>\n",
              "      <td>1</td>\n",
              "      <td>22000.0</td>\n",
              "      <td>False</td>\n",
              "    </tr>\n",
              "    <tr>\n",
              "      <th>28</th>\n",
              "      <td>670520</td>\n",
              "      <td>115</td>\n",
              "      <td>7898</td>\n",
              "      <td>0</td>\n",
              "      <td>28</td>\n",
              "      <td>2</td>\n",
              "      <td>1</td>\n",
              "      <td>22000.0</td>\n",
              "      <td>False</td>\n",
              "    </tr>\n",
              "    <tr>\n",
              "      <th>29</th>\n",
              "      <td>692971</td>\n",
              "      <td>115</td>\n",
              "      <td>175</td>\n",
              "      <td>0</td>\n",
              "      <td>29</td>\n",
              "      <td>0</td>\n",
              "      <td>0</td>\n",
              "      <td>23000.0</td>\n",
              "      <td>False</td>\n",
              "    </tr>\n",
              "    <tr>\n",
              "      <th>30</th>\n",
              "      <td>710402</td>\n",
              "      <td>115</td>\n",
              "      <td>100</td>\n",
              "      <td>0</td>\n",
              "      <td>30</td>\n",
              "      <td>0</td>\n",
              "      <td>1</td>\n",
              "      <td>20000.0</td>\n",
              "      <td>False</td>\n",
              "    </tr>\n",
              "    <tr>\n",
              "      <th>31</th>\n",
              "      <td>732421</td>\n",
              "      <td>115</td>\n",
              "      <td>7859</td>\n",
              "      <td>0</td>\n",
              "      <td>31</td>\n",
              "      <td>3</td>\n",
              "      <td>0</td>\n",
              "      <td>15000.0</td>\n",
              "      <td>False</td>\n",
              "    </tr>\n",
              "    <tr>\n",
              "      <th>32</th>\n",
              "      <td>1219624</td>\n",
              "      <td>115</td>\n",
              "      <td>57</td>\n",
              "      <td>0</td>\n",
              "      <td>32</td>\n",
              "      <td>0</td>\n",
              "      <td>1</td>\n",
              "      <td>20000.0</td>\n",
              "      <td>False</td>\n",
              "    </tr>\n",
              "    <tr>\n",
              "      <th>33</th>\n",
              "      <td>1252621</td>\n",
              "      <td>115</td>\n",
              "      <td>7948</td>\n",
              "      <td>0</td>\n",
              "      <td>33</td>\n",
              "      <td>0</td>\n",
              "      <td>1</td>\n",
              "      <td>20000.0</td>\n",
              "      <td>True</td>\n",
              "    </tr>\n",
              "    <tr>\n",
              "      <th>34</th>\n",
              "      <td>1284094</td>\n",
              "      <td>115</td>\n",
              "      <td>151</td>\n",
              "      <td>0</td>\n",
              "      <td>34</td>\n",
              "      <td>3</td>\n",
              "      <td>1</td>\n",
              "      <td>22000.0</td>\n",
              "      <td>True</td>\n",
              "    </tr>\n",
              "    <tr>\n",
              "      <th>35</th>\n",
              "      <td>1320874</td>\n",
              "      <td>115</td>\n",
              "      <td>167</td>\n",
              "      <td>0</td>\n",
              "      <td>35</td>\n",
              "      <td>2</td>\n",
              "      <td>1</td>\n",
              "      <td>19000.0</td>\n",
              "      <td>True</td>\n",
              "    </tr>\n",
              "    <tr>\n",
              "      <th>36</th>\n",
              "      <td>1359412</td>\n",
              "      <td>115</td>\n",
              "      <td>7897</td>\n",
              "      <td>0</td>\n",
              "      <td>36</td>\n",
              "      <td>3</td>\n",
              "      <td>0</td>\n",
              "      <td>17000.0</td>\n",
              "      <td>True</td>\n",
              "    </tr>\n",
              "    <tr>\n",
              "      <th>37</th>\n",
              "      <td>1415188</td>\n",
              "      <td>115</td>\n",
              "      <td>7882</td>\n",
              "      <td>0</td>\n",
              "      <td>37</td>\n",
              "      <td>2</td>\n",
              "      <td>1</td>\n",
              "      <td>20000.0</td>\n",
              "      <td>True</td>\n",
              "    </tr>\n",
              "    <tr>\n",
              "      <th>38</th>\n",
              "      <td>1468285</td>\n",
              "      <td>115</td>\n",
              "      <td>7962</td>\n",
              "      <td>0</td>\n",
              "      <td>38</td>\n",
              "      <td>3</td>\n",
              "      <td>1</td>\n",
              "      <td>17000.0</td>\n",
              "      <td>True</td>\n",
              "    </tr>\n",
              "    <tr>\n",
              "      <th>39</th>\n",
              "      <td>667861680</td>\n",
              "      <td>115</td>\n",
              "      <td>1278</td>\n",
              "      <td>0</td>\n",
              "      <td>39</td>\n",
              "      <td>3</td>\n",
              "      <td>1</td>\n",
              "      <td>21000.0</td>\n",
              "      <td>False</td>\n",
              "    </tr>\n",
              "    <tr>\n",
              "      <th>40</th>\n",
              "      <td>667971812</td>\n",
              "      <td>115</td>\n",
              "      <td>2065</td>\n",
              "      <td>0</td>\n",
              "      <td>40</td>\n",
              "      <td>2</td>\n",
              "      <td>1</td>\n",
              "      <td>17000.0</td>\n",
              "      <td>False</td>\n",
              "    </tr>\n",
              "    <tr>\n",
              "      <th>41</th>\n",
              "      <td>667971812</td>\n",
              "      <td>115</td>\n",
              "      <td>2064</td>\n",
              "      <td>0</td>\n",
              "      <td>40</td>\n",
              "      <td>1</td>\n",
              "      <td>1</td>\n",
              "      <td>17000.0</td>\n",
              "      <td>False</td>\n",
              "    </tr>\n",
              "    <tr>\n",
              "      <th>42</th>\n",
              "      <td>667971812</td>\n",
              "      <td>115</td>\n",
              "      <td>2063</td>\n",
              "      <td>0</td>\n",
              "      <td>40</td>\n",
              "      <td>3</td>\n",
              "      <td>0</td>\n",
              "      <td>17000.0</td>\n",
              "      <td>False</td>\n",
              "    </tr>\n",
              "    <tr>\n",
              "      <th>43</th>\n",
              "      <td>668090043</td>\n",
              "      <td>115</td>\n",
              "      <td>3363</td>\n",
              "      <td>0</td>\n",
              "      <td>41</td>\n",
              "      <td>1</td>\n",
              "      <td>0</td>\n",
              "      <td>14333.0</td>\n",
              "      <td>False</td>\n",
              "    </tr>\n",
              "    <tr>\n",
              "      <th>44</th>\n",
              "      <td>668090043</td>\n",
              "      <td>115</td>\n",
              "      <td>3365</td>\n",
              "      <td>0</td>\n",
              "      <td>41</td>\n",
              "      <td>0</td>\n",
              "      <td>0</td>\n",
              "      <td>14333.0</td>\n",
              "      <td>False</td>\n",
              "    </tr>\n",
              "    <tr>\n",
              "      <th>45</th>\n",
              "      <td>668090043</td>\n",
              "      <td>115</td>\n",
              "      <td>3364</td>\n",
              "      <td>0</td>\n",
              "      <td>41</td>\n",
              "      <td>1</td>\n",
              "      <td>1</td>\n",
              "      <td>14333.0</td>\n",
              "      <td>False</td>\n",
              "    </tr>\n",
              "    <tr>\n",
              "      <th>46</th>\n",
              "      <td>0</td>\n",
              "      <td>124</td>\n",
              "      <td>7900</td>\n",
              "      <td>0</td>\n",
              "      <td>0</td>\n",
              "      <td>0</td>\n",
              "      <td>1</td>\n",
              "      <td>NaN</td>\n",
              "      <td>NaN</td>\n",
              "    </tr>\n",
              "    <tr>\n",
              "      <th>47</th>\n",
              "      <td>32683</td>\n",
              "      <td>124</td>\n",
              "      <td>7876</td>\n",
              "      <td>0</td>\n",
              "      <td>1</td>\n",
              "      <td>0</td>\n",
              "      <td>0</td>\n",
              "      <td>26000.0</td>\n",
              "      <td>False</td>\n",
              "    </tr>\n",
              "    <tr>\n",
              "      <th>48</th>\n",
              "      <td>62000</td>\n",
              "      <td>124</td>\n",
              "      <td>175</td>\n",
              "      <td>0</td>\n",
              "      <td>2</td>\n",
              "      <td>2</td>\n",
              "      <td>1</td>\n",
              "      <td>29000.0</td>\n",
              "      <td>False</td>\n",
              "    </tr>\n",
              "    <tr>\n",
              "      <th>49</th>\n",
              "      <td>83632</td>\n",
              "      <td>124</td>\n",
              "      <td>1278</td>\n",
              "      <td>0</td>\n",
              "      <td>3</td>\n",
              "      <td>1</td>\n",
              "      <td>0</td>\n",
              "      <td>26000.0</td>\n",
              "      <td>False</td>\n",
              "    </tr>\n",
              "  </tbody>\n",
              "</table>\n",
              "</div>"
            ],
            "text/plain": [
              "    timestamp  ...  prior_question_had_explanation\n",
              "0           0  ...                             NaN\n",
              "1       56943  ...                           False\n",
              "2      118363  ...                           False\n",
              "3      131167  ...                           False\n",
              "4      137965  ...                           False\n",
              "5      157063  ...                           False\n",
              "6      176092  ...                           False\n",
              "7      194190  ...                           False\n",
              "8      212463  ...                           False\n",
              "9      230983  ...                           False\n",
              "10     255381  ...                           False\n",
              "11     280033  ...                           False\n",
              "12     302994  ...                           False\n",
              "13     328686  ...                           False\n",
              "14     352686  ...                           False\n",
              "15     376162  ...                           False\n",
              "16     398020  ...                           False\n",
              "17     418008  ...                           False\n",
              "18     437272  ...                           False\n",
              "19     468511  ...                           False\n",
              "20     490100  ...                           False\n",
              "21     510583  ...                           False\n",
              "22     534187  ...                           False\n",
              "23     557677  ...                           False\n",
              "24     575289  ...                           False\n",
              "25     597863  ...                           False\n",
              "26     621464  ...                           False\n",
              "27     645415  ...                           False\n",
              "28     670520  ...                           False\n",
              "29     692971  ...                           False\n",
              "30     710402  ...                           False\n",
              "31     732421  ...                           False\n",
              "32    1219624  ...                           False\n",
              "33    1252621  ...                            True\n",
              "34    1284094  ...                            True\n",
              "35    1320874  ...                            True\n",
              "36    1359412  ...                            True\n",
              "37    1415188  ...                            True\n",
              "38    1468285  ...                            True\n",
              "39  667861680  ...                           False\n",
              "40  667971812  ...                           False\n",
              "41  667971812  ...                           False\n",
              "42  667971812  ...                           False\n",
              "43  668090043  ...                           False\n",
              "44  668090043  ...                           False\n",
              "45  668090043  ...                           False\n",
              "46          0  ...                             NaN\n",
              "47      32683  ...                           False\n",
              "48      62000  ...                           False\n",
              "49      83632  ...                           False\n",
              "\n",
              "[50 rows x 9 columns]"
            ]
          },
          "metadata": {
            "tags": []
          },
          "execution_count": 42
        }
      ]
    },
    {
      "cell_type": "code",
      "metadata": {
        "colab": {
          "base_uri": "https://localhost:8080/",
          "height": 350
        },
        "id": "e06ZqkCZulUg",
        "outputId": "f504edeb-0da9-4274-8c80-5c4c00c2aca9"
      },
      "source": [
        "# Timestamp distribution\r\n",
        "\r\n",
        "sns.distplot(df['timestamp'],kde=False,\r\n",
        "             hist_kws={'rwidth': 0.85,\r\n",
        "                 'edgecolor': 'black',\r\n",
        "                 'alpha': 0.8}, bins=100)\r\n",
        "\r\n"
      ],
      "execution_count": null,
      "outputs": [
        {
          "output_type": "stream",
          "text": [
            "/usr/local/lib/python3.6/dist-packages/seaborn/distributions.py:2551: FutureWarning: `distplot` is a deprecated function and will be removed in a future version. Please adapt your code to use either `displot` (a figure-level function with similar flexibility) or `histplot` (an axes-level function for histograms).\n",
            "  warnings.warn(msg, FutureWarning)\n"
          ],
          "name": "stderr"
        },
        {
          "output_type": "execute_result",
          "data": {
            "text/plain": [
              "<matplotlib.axes._subplots.AxesSubplot at 0x7f2dd16e2320>"
            ]
          },
          "metadata": {
            "tags": []
          },
          "execution_count": 43
        },
        {
          "output_type": "display_data",
          "data": {
            "image/png": "[encoded data removed]",
            "text/plain": [
              "<Figure size 432x288 with 1 Axes>"
            ]
          },
          "metadata": {
            "tags": [],
            "needs_background": "light"
          }
        }
      ]
    },
    {
      "cell_type": "markdown",
      "metadata": {
        "id": "2jIrsIz3BwPg"
      },
      "source": [
        "Timestamp data distribution says that until what duration of time most of the users have used the software."
      ]
    },
    {
      "cell_type": "code",
      "metadata": {
        "colab": {
          "base_uri": "https://localhost:8080/",
          "height": 195
        },
        "id": "UzZIFGN03uGc",
        "outputId": "83df281c-6d7d-4d86-b6a7-35726e706661"
      },
      "source": [
        "df.head()"
      ],
      "execution_count": null,
      "outputs": [
        {
          "output_type": "execute_result",
          "data": {
            "text/html": [
              "<div>\n",
              "<style scoped>\n",
              "    .dataframe tbody tr th:only-of-type {\n",
              "        vertical-align: middle;\n",
              "    }\n",
              "\n",
              "    .dataframe tbody tr th {\n",
              "        vertical-align: top;\n",
              "    }\n",
              "\n",
              "    .dataframe thead th {\n",
              "        text-align: right;\n",
              "    }\n",
              "</style>\n",
              "<table border=\"1\" class=\"dataframe\">\n",
              "  <thead>\n",
              "    <tr style=\"text-align: right;\">\n",
              "      <th></th>\n",
              "      <th>timestamp</th>\n",
              "      <th>user_id</th>\n",
              "      <th>content_id</th>\n",
              "      <th>content_type_id</th>\n",
              "      <th>question_bundle_id</th>\n",
              "      <th>user_answer</th>\n",
              "      <th>answered_correctly</th>\n",
              "      <th>prior_question_elapsed_time</th>\n",
              "      <th>prior_question_had_explanation</th>\n",
              "    </tr>\n",
              "  </thead>\n",
              "  <tbody>\n",
              "    <tr>\n",
              "      <th>0</th>\n",
              "      <td>0</td>\n",
              "      <td>115</td>\n",
              "      <td>5692</td>\n",
              "      <td>0</td>\n",
              "      <td>1</td>\n",
              "      <td>3</td>\n",
              "      <td>1</td>\n",
              "      <td>NaN</td>\n",
              "      <td>NaN</td>\n",
              "    </tr>\n",
              "    <tr>\n",
              "      <th>1</th>\n",
              "      <td>56943</td>\n",
              "      <td>115</td>\n",
              "      <td>5716</td>\n",
              "      <td>0</td>\n",
              "      <td>2</td>\n",
              "      <td>2</td>\n",
              "      <td>1</td>\n",
              "      <td>37000.0</td>\n",
              "      <td>False</td>\n",
              "    </tr>\n",
              "    <tr>\n",
              "      <th>2</th>\n",
              "      <td>118363</td>\n",
              "      <td>115</td>\n",
              "      <td>128</td>\n",
              "      <td>0</td>\n",
              "      <td>0</td>\n",
              "      <td>0</td>\n",
              "      <td>1</td>\n",
              "      <td>55000.0</td>\n",
              "      <td>False</td>\n",
              "    </tr>\n",
              "    <tr>\n",
              "      <th>3</th>\n",
              "      <td>131167</td>\n",
              "      <td>115</td>\n",
              "      <td>7860</td>\n",
              "      <td>0</td>\n",
              "      <td>3</td>\n",
              "      <td>0</td>\n",
              "      <td>1</td>\n",
              "      <td>19000.0</td>\n",
              "      <td>False</td>\n",
              "    </tr>\n",
              "    <tr>\n",
              "      <th>4</th>\n",
              "      <td>137965</td>\n",
              "      <td>115</td>\n",
              "      <td>7922</td>\n",
              "      <td>0</td>\n",
              "      <td>4</td>\n",
              "      <td>1</td>\n",
              "      <td>1</td>\n",
              "      <td>11000.0</td>\n",
              "      <td>False</td>\n",
              "    </tr>\n",
              "  </tbody>\n",
              "</table>\n",
              "</div>"
            ],
            "text/plain": [
              "   timestamp  ...  prior_question_had_explanation\n",
              "0          0  ...                             NaN\n",
              "1      56943  ...                           False\n",
              "2     118363  ...                           False\n",
              "3     131167  ...                           False\n",
              "4     137965  ...                           False\n",
              "\n",
              "[5 rows x 9 columns]"
            ]
          },
          "metadata": {
            "tags": []
          },
          "execution_count": 44
        }
      ]
    },
    {
      "cell_type": "code",
      "metadata": {
        "colab": {
          "base_uri": "https://localhost:8080/"
        },
        "id": "EZshQd6FxgUJ",
        "outputId": "ad009a5b-da64-4ed7-c333-905baee352e0"
      },
      "source": [
        "np.sort(df['user_id'].unique())[:5]==df['user_id'].unique()[:5]\r\n"
      ],
      "execution_count": null,
      "outputs": [
        {
          "output_type": "execute_result",
          "data": {
            "text/plain": [
              "array([ True,  True,  True,  True,  True])"
            ]
          },
          "metadata": {
            "tags": []
          },
          "execution_count": 45
        }
      ]
    },
    {
      "cell_type": "markdown",
      "metadata": {
        "id": "ZAR3lpQ9xrn9"
      },
      "source": [
        "user_id seems to be sorted"
      ]
    },
    {
      "cell_type": "code",
      "metadata": {
        "id": "tAlEt0FcisuL"
      },
      "source": [
        "# let's check the relationship btw timestamp and question_bundle_id"
      ],
      "execution_count": null,
      "outputs": []
    },
    {
      "cell_type": "code",
      "metadata": {
        "colab": {
          "base_uri": "https://localhost:8080/",
          "height": 308
        },
        "id": "rx7nau_y_1Xg",
        "outputId": "34779e16-4be4-4b8e-9c12-8975db21e600"
      },
      "source": [
        "# for 115 user_id\r\n",
        "plt.scatter(x=df['question_bundle_id'][df['user_id']==115],\r\n",
        "            y=df['timestamp'][df['user_id']==115])\r\n",
        "\r\n",
        "plt.xlabel('question_bundle_id')\r\n",
        "plt.ylabel('timestamp')"
      ],
      "execution_count": null,
      "outputs": [
        {
          "output_type": "execute_result",
          "data": {
            "text/plain": [
              "Text(0, 0.5, 'timestamp')"
            ]
          },
          "metadata": {
            "tags": []
          },
          "execution_count": 47
        },
        {
          "output_type": "display_data",
          "data": {
            "image/png": "[encoded data removed]",
            "text/plain": [
              "<Figure size 432x288 with 1 Axes>"
            ]
          },
          "metadata": {
            "tags": [],
            "needs_background": "light"
          }
        }
      ]
    },
    {
      "cell_type": "code",
      "metadata": {
        "colab": {
          "base_uri": "https://localhost:8080/"
        },
        "id": "rfld6x_65xer",
        "outputId": "4cde19a0-f41f-4b9e-9582-d73437a7c8ba"
      },
      "source": [
        "print(pd.__version__)"
      ],
      "execution_count": null,
      "outputs": [
        {
          "output_type": "stream",
          "text": [
            "1.1.5\n"
          ],
          "name": "stdout"
        }
      ]
    },
    {
      "cell_type": "code",
      "metadata": {
        "colab": {
          "base_uri": "https://localhost:8080/",
          "height": 297
        },
        "id": "4xsicsbDDlqx",
        "outputId": "53f3ab87-2a90-4189-d58b-9f54d45c6812"
      },
      "source": [
        "#for user 124\r\n",
        "plt.scatter(x=df['question_bundle_id'][df['user_id']==124],\r\n",
        "            y=df['timestamp'][df['user_id']==124])\r\n",
        "\r\n",
        "plt.xlabel('question_bundle_id')\r\n",
        "plt.ylabel('timestamp')"
      ],
      "execution_count": null,
      "outputs": [
        {
          "output_type": "execute_result",
          "data": {
            "text/plain": [
              "Text(0, 0.5, 'timestamp')"
            ]
          },
          "metadata": {
            "tags": []
          },
          "execution_count": 49
        },
        {
          "output_type": "display_data",
          "data": {
            "image/png": "[encoded data removed]",
            "text/plain": [
              "<Figure size 432x288 with 1 Axes>"
            ]
          },
          "metadata": {
            "tags": [],
            "needs_background": "light"
          }
        }
      ]
    },
    {
      "cell_type": "code",
      "metadata": {
        "colab": {
          "base_uri": "https://localhost:8080/",
          "height": 297
        },
        "id": "RHKLAR2PKJX6",
        "outputId": "a513489e-1848-4876-db02-eac4d8308157"
      },
      "source": [
        "#for user 2746\r\n",
        "plt.scatter(x=df['question_bundle_id'][df['user_id']==2746],\r\n",
        "            y=df['timestamp'][df['user_id']==2746])\r\n",
        "\r\n",
        "plt.xlabel('question_bundle_id')\r\n",
        "plt.ylabel('timestamp')"
      ],
      "execution_count": null,
      "outputs": [
        {
          "output_type": "execute_result",
          "data": {
            "text/plain": [
              "Text(0, 0.5, 'timestamp')"
            ]
          },
          "metadata": {
            "tags": []
          },
          "execution_count": 50
        },
        {
          "output_type": "display_data",
          "data": {
            "image/png": "[encoded data removed]",
            "text/plain": [
              "<Figure size 432x288 with 1 Axes>"
            ]
          },
          "metadata": {
            "tags": [],
            "needs_background": "light"
          }
        }
      ]
    },
    {
      "cell_type": "markdown",
      "metadata": {
        "id": "8PD6Q3-gKSg6"
      },
      "source": [
        "From visualizations it seems it increases monotically (but hey its not true)\r\n"
      ]
    },
    {
      "cell_type": "code",
      "metadata": {
        "colab": {
          "base_uri": "https://localhost:8080/",
          "height": 195
        },
        "id": "jSIpcOY1KL7i",
        "outputId": "20e5116e-8436-4671-c219-084777b3e2b5"
      },
      "source": [
        "df.head()"
      ],
      "execution_count": null,
      "outputs": [
        {
          "output_type": "execute_result",
          "data": {
            "text/html": [
              "<div>\n",
              "<style scoped>\n",
              "    .dataframe tbody tr th:only-of-type {\n",
              "        vertical-align: middle;\n",
              "    }\n",
              "\n",
              "    .dataframe tbody tr th {\n",
              "        vertical-align: top;\n",
              "    }\n",
              "\n",
              "    .dataframe thead th {\n",
              "        text-align: right;\n",
              "    }\n",
              "</style>\n",
              "<table border=\"1\" class=\"dataframe\">\n",
              "  <thead>\n",
              "    <tr style=\"text-align: right;\">\n",
              "      <th></th>\n",
              "      <th>timestamp</th>\n",
              "      <th>user_id</th>\n",
              "      <th>content_id</th>\n",
              "      <th>content_type_id</th>\n",
              "      <th>question_bundle_id</th>\n",
              "      <th>user_answer</th>\n",
              "      <th>answered_correctly</th>\n",
              "      <th>prior_question_elapsed_time</th>\n",
              "      <th>prior_question_had_explanation</th>\n",
              "    </tr>\n",
              "  </thead>\n",
              "  <tbody>\n",
              "    <tr>\n",
              "      <th>0</th>\n",
              "      <td>0</td>\n",
              "      <td>115</td>\n",
              "      <td>5692</td>\n",
              "      <td>0</td>\n",
              "      <td>1</td>\n",
              "      <td>3</td>\n",
              "      <td>1</td>\n",
              "      <td>NaN</td>\n",
              "      <td>NaN</td>\n",
              "    </tr>\n",
              "    <tr>\n",
              "      <th>1</th>\n",
              "      <td>56943</td>\n",
              "      <td>115</td>\n",
              "      <td>5716</td>\n",
              "      <td>0</td>\n",
              "      <td>2</td>\n",
              "      <td>2</td>\n",
              "      <td>1</td>\n",
              "      <td>37000.0</td>\n",
              "      <td>False</td>\n",
              "    </tr>\n",
              "    <tr>\n",
              "      <th>2</th>\n",
              "      <td>118363</td>\n",
              "      <td>115</td>\n",
              "      <td>128</td>\n",
              "      <td>0</td>\n",
              "      <td>0</td>\n",
              "      <td>0</td>\n",
              "      <td>1</td>\n",
              "      <td>55000.0</td>\n",
              "      <td>False</td>\n",
              "    </tr>\n",
              "    <tr>\n",
              "      <th>3</th>\n",
              "      <td>131167</td>\n",
              "      <td>115</td>\n",
              "      <td>7860</td>\n",
              "      <td>0</td>\n",
              "      <td>3</td>\n",
              "      <td>0</td>\n",
              "      <td>1</td>\n",
              "      <td>19000.0</td>\n",
              "      <td>False</td>\n",
              "    </tr>\n",
              "    <tr>\n",
              "      <th>4</th>\n",
              "      <td>137965</td>\n",
              "      <td>115</td>\n",
              "      <td>7922</td>\n",
              "      <td>0</td>\n",
              "      <td>4</td>\n",
              "      <td>1</td>\n",
              "      <td>1</td>\n",
              "      <td>11000.0</td>\n",
              "      <td>False</td>\n",
              "    </tr>\n",
              "  </tbody>\n",
              "</table>\n",
              "</div>"
            ],
            "text/plain": [
              "   timestamp  ...  prior_question_had_explanation\n",
              "0          0  ...                             NaN\n",
              "1      56943  ...                           False\n",
              "2     118363  ...                           False\n",
              "3     131167  ...                           False\n",
              "4     137965  ...                           False\n",
              "\n",
              "[5 rows x 9 columns]"
            ]
          },
          "metadata": {
            "tags": []
          },
          "execution_count": 51
        }
      ]
    },
    {
      "cell_type": "code",
      "metadata": {
        "colab": {
          "base_uri": "https://localhost:8080/",
          "height": 353
        },
        "id": "0aYyMqLgH_94",
        "outputId": "79c51883-dec3-4036-e17a-14610cd58a0e"
      },
      "source": [
        "sns.countplot(df['answered_correctly'])  #ingeneral"
      ],
      "execution_count": null,
      "outputs": [
        {
          "output_type": "stream",
          "text": [
            "/usr/local/lib/python3.6/dist-packages/seaborn/_decorators.py:43: FutureWarning: Pass the following variable as a keyword arg: x. From version 0.12, the only valid positional argument will be `data`, and passing other arguments without an explicit keyword will result in an error or misinterpretation.\n",
            "  FutureWarning\n"
          ],
          "name": "stderr"
        },
        {
          "output_type": "execute_result",
          "data": {
            "text/plain": [
              "<matplotlib.axes._subplots.AxesSubplot at 0x7f2dd13ddeb8>"
            ]
          },
          "metadata": {
            "tags": []
          },
          "execution_count": 52
        },
        {
          "output_type": "display_data",
          "data": {
            "image/png": "[encoded data removed]",
            "text/plain": [
              "<Figure size 432x288 with 1 Axes>"
            ]
          },
          "metadata": {
            "tags": [],
            "needs_background": "light"
          }
        }
      ]
    },
    {
      "cell_type": "markdown",
      "metadata": {
        "id": "JeoM-oJhIDa5"
      },
      "source": [
        "Overall nice performance\r\n"
      ]
    },
    {
      "cell_type": "code",
      "metadata": {
        "colab": {
          "base_uri": "https://localhost:8080/"
        },
        "id": "Q8QD_u-bwmtT",
        "outputId": "3f1eb6f3-2e7c-4042-c6cf-d2d6e9a5cf3f"
      },
      "source": [
        "len(df['question_bundle_id'].unique())"
      ],
      "execution_count": null,
      "outputs": [
        {
          "output_type": "execute_result",
          "data": {
            "text/plain": [
              "5631"
            ]
          },
          "metadata": {
            "tags": []
          },
          "execution_count": 53
        }
      ]
    },
    {
      "cell_type": "code",
      "metadata": {
        "colab": {
          "base_uri": "https://localhost:8080/"
        },
        "id": "-ynJg4-hAbGt",
        "outputId": "f7b3100f-dac2-44aa-9826-c289de039113"
      },
      "source": [
        "print(f'We have {len(df.question_bundle_id.unique())} unique Batches of questions or lectures.')"
      ],
      "execution_count": null,
      "outputs": [
        {
          "output_type": "stream",
          "text": [
            "We have 5631 unique Batches of questions or lectures.\n"
          ],
          "name": "stdout"
        }
      ]
    },
    {
      "cell_type": "code",
      "metadata": {
        "colab": {
          "base_uri": "https://localhost:8080/"
        },
        "id": "ByhRvo_ayG4f",
        "outputId": "a1501599-fc5d-487c-c3e7-a3c426a4425d"
      },
      "source": [
        "df['answered_correctly'].unique() #Reminder : we have no lectures"
      ],
      "execution_count": null,
      "outputs": [
        {
          "output_type": "execute_result",
          "data": {
            "text/plain": [
              "array([1, 0])"
            ]
          },
          "metadata": {
            "tags": []
          },
          "execution_count": 55
        }
      ]
    },
    {
      "cell_type": "code",
      "metadata": {
        "colab": {
          "base_uri": "https://localhost:8080/"
        },
        "id": "tqfL_a5azUBk",
        "outputId": "f32a5ba1-00b3-4baf-c556-b3fbc4938df8"
      },
      "source": [
        "df['user_answer'].unique()"
      ],
      "execution_count": null,
      "outputs": [
        {
          "output_type": "execute_result",
          "data": {
            "text/plain": [
              "array([3, 2, 0, 1])"
            ]
          },
          "metadata": {
            "tags": []
          },
          "execution_count": 56
        }
      ]
    },
    {
      "cell_type": "code",
      "metadata": {
        "colab": {
          "base_uri": "https://localhost:8080/"
        },
        "id": "1_St8Ah51qsY",
        "outputId": "f4359a9e-b174-4fa8-cb9d-925cb0a21686"
      },
      "source": [
        "len(df[(df['user_answer']==3) & (df['answered_correctly']==1)])"
      ],
      "execution_count": null,
      "outputs": [
        {
          "output_type": "execute_result",
          "data": {
            "text/plain": [
              "17839"
            ]
          },
          "metadata": {
            "tags": []
          },
          "execution_count": 57
        }
      ]
    },
    {
      "cell_type": "code",
      "metadata": {
        "id": "gdeB4O7sL-Hf"
      },
      "source": [
        "#lets find out the frequency of each answer label (0,1,2,3)\r\n",
        "\r\n",
        "normal_dict= { 3 : [ len(df[(df['user_answer']==3) & (df['answered_correctly']==1)]) , len(df[(df['user_answer']==3) & (df['answered_correctly']==0)])] , \r\n",
        "               0 : [ len(df[(df['user_answer']==0) & (df['answered_correctly']==1)]) , len(df[(df['user_answer']==0) & (df['answered_correctly']==0)])] ,\r\n",
        "               1 : [ len(df[(df['user_answer']==1) & (df['answered_correctly']==1)]) , len(df[(df['user_answer']==1) & (df['answered_correctly']==0)])] ,\r\n",
        "               2 : [ len(df[(df['user_answer']==2) & (df['answered_correctly']==1)]) , len(df[(df['user_answer']==2) & (df['answered_correctly']==0)])] }\r\n",
        "\r\n",
        "\r\n"
      ],
      "execution_count": null,
      "outputs": []
    },
    {
      "cell_type": "code",
      "metadata": {
        "colab": {
          "base_uri": "https://localhost:8080/"
        },
        "id": "ZLBtRLOk09ut",
        "outputId": "d9c87558-5758-41b0-f1c4-bca3dfa74e9a"
      },
      "source": [
        "normal_dict"
      ],
      "execution_count": null,
      "outputs": [
        {
          "output_type": "execute_result",
          "data": {
            "text/plain": [
              "{0: [19112, 8813], 1: [17919, 8573], 2: [12456, 5264], 3: [17839, 8206]}"
            ]
          },
          "metadata": {
            "tags": []
          },
          "execution_count": 59
        }
      ]
    },
    {
      "cell_type": "code",
      "metadata": {
        "colab": {
          "base_uri": "https://localhost:8080/"
        },
        "id": "mli3A0aj3w2y",
        "outputId": "a38187ea-5bd4-43ab-d687-4dd1e634a296"
      },
      "source": [
        "len(normal_dict)"
      ],
      "execution_count": null,
      "outputs": [
        {
          "output_type": "execute_result",
          "data": {
            "text/plain": [
              "4"
            ]
          },
          "metadata": {
            "tags": []
          },
          "execution_count": 60
        }
      ]
    },
    {
      "cell_type": "code",
      "metadata": {
        "colab": {
          "base_uri": "https://localhost:8080/",
          "height": 296
        },
        "id": "kniQVhZ63BO1",
        "outputId": "a9e03787-5f49-4479-b8e8-bca6327f2e70"
      },
      "source": [
        "# questions from different bundle id \r\n",
        "pd.DataFrame(normal_dict,index=[0,1]).plot(kind='bar')\r\n",
        "plt.xlabel('answered correctly or not')\r\n",
        "plt.ylabel('count')"
      ],
      "execution_count": null,
      "outputs": [
        {
          "output_type": "execute_result",
          "data": {
            "text/plain": [
              "Text(0, 0.5, 'count')"
            ]
          },
          "metadata": {
            "tags": []
          },
          "execution_count": 61
        },
        {
          "output_type": "display_data",
          "data": {
            "image/png": "[encoded data removed]",
            "text/plain": [
              "<Figure size 432x288 with 1 Axes>"
            ]
          },
          "metadata": {
            "tags": [],
            "needs_background": "light"
          }
        }
      ]
    },
    {
      "cell_type": "markdown",
      "metadata": {
        "id": "hhyRTL1D_iSM"
      },
      "source": [
        "User answer. Seems that the questions are multiple choice (answers 0-3). As mentioned in the data description, -1 is actually no-answer (as the interaction was a lecture instead of a question) and this information has been removed.\r\n",
        "\r\n",
        "inderence : Option 3 is frequently wrong and the right answer in the among different question_bundles\r\n",
        "\r\n",
        "Remember question bundle may contain more than one question but id is same.\r\n"
      ]
    },
    {
      "cell_type": "code",
      "metadata": {
        "colab": {
          "base_uri": "https://localhost:8080/",
          "height": 195
        },
        "id": "giwt_SPc2k6E",
        "outputId": "8817f86d-7621-4c4c-f5a5-91408bb00893"
      },
      "source": [
        "df.head()"
      ],
      "execution_count": null,
      "outputs": [
        {
          "output_type": "execute_result",
          "data": {
            "text/html": [
              "<div>\n",
              "<style scoped>\n",
              "    .dataframe tbody tr th:only-of-type {\n",
              "        vertical-align: middle;\n",
              "    }\n",
              "\n",
              "    .dataframe tbody tr th {\n",
              "        vertical-align: top;\n",
              "    }\n",
              "\n",
              "    .dataframe thead th {\n",
              "        text-align: right;\n",
              "    }\n",
              "</style>\n",
              "<table border=\"1\" class=\"dataframe\">\n",
              "  <thead>\n",
              "    <tr style=\"text-align: right;\">\n",
              "      <th></th>\n",
              "      <th>timestamp</th>\n",
              "      <th>user_id</th>\n",
              "      <th>content_id</th>\n",
              "      <th>content_type_id</th>\n",
              "      <th>question_bundle_id</th>\n",
              "      <th>user_answer</th>\n",
              "      <th>answered_correctly</th>\n",
              "      <th>prior_question_elapsed_time</th>\n",
              "      <th>prior_question_had_explanation</th>\n",
              "    </tr>\n",
              "  </thead>\n",
              "  <tbody>\n",
              "    <tr>\n",
              "      <th>0</th>\n",
              "      <td>0</td>\n",
              "      <td>115</td>\n",
              "      <td>5692</td>\n",
              "      <td>0</td>\n",
              "      <td>1</td>\n",
              "      <td>3</td>\n",
              "      <td>1</td>\n",
              "      <td>NaN</td>\n",
              "      <td>NaN</td>\n",
              "    </tr>\n",
              "    <tr>\n",
              "      <th>1</th>\n",
              "      <td>56943</td>\n",
              "      <td>115</td>\n",
              "      <td>5716</td>\n",
              "      <td>0</td>\n",
              "      <td>2</td>\n",
              "      <td>2</td>\n",
              "      <td>1</td>\n",
              "      <td>37000.0</td>\n",
              "      <td>False</td>\n",
              "    </tr>\n",
              "    <tr>\n",
              "      <th>2</th>\n",
              "      <td>118363</td>\n",
              "      <td>115</td>\n",
              "      <td>128</td>\n",
              "      <td>0</td>\n",
              "      <td>0</td>\n",
              "      <td>0</td>\n",
              "      <td>1</td>\n",
              "      <td>55000.0</td>\n",
              "      <td>False</td>\n",
              "    </tr>\n",
              "    <tr>\n",
              "      <th>3</th>\n",
              "      <td>131167</td>\n",
              "      <td>115</td>\n",
              "      <td>7860</td>\n",
              "      <td>0</td>\n",
              "      <td>3</td>\n",
              "      <td>0</td>\n",
              "      <td>1</td>\n",
              "      <td>19000.0</td>\n",
              "      <td>False</td>\n",
              "    </tr>\n",
              "    <tr>\n",
              "      <th>4</th>\n",
              "      <td>137965</td>\n",
              "      <td>115</td>\n",
              "      <td>7922</td>\n",
              "      <td>0</td>\n",
              "      <td>4</td>\n",
              "      <td>1</td>\n",
              "      <td>1</td>\n",
              "      <td>11000.0</td>\n",
              "      <td>False</td>\n",
              "    </tr>\n",
              "  </tbody>\n",
              "</table>\n",
              "</div>"
            ],
            "text/plain": [
              "   timestamp  ...  prior_question_had_explanation\n",
              "0          0  ...                             NaN\n",
              "1      56943  ...                           False\n",
              "2     118363  ...                           False\n",
              "3     131167  ...                           False\n",
              "4     137965  ...                           False\n",
              "\n",
              "[5 rows x 9 columns]"
            ]
          },
          "metadata": {
            "tags": []
          },
          "execution_count": 62
        }
      ]
    },
    {
      "cell_type": "code",
      "metadata": {
        "colab": {
          "base_uri": "https://localhost:8080/"
        },
        "id": "pRkTM1dHPpcF",
        "outputId": "503d9a5b-42af-4805-a116-01b2182d3353"
      },
      "source": [
        "len(df['content_id'].unique())"
      ],
      "execution_count": null,
      "outputs": [
        {
          "output_type": "execute_result",
          "data": {
            "text/plain": [
              "11321"
            ]
          },
          "metadata": {
            "tags": []
          },
          "execution_count": 63
        }
      ]
    },
    {
      "cell_type": "code",
      "metadata": {
        "colab": {
          "base_uri": "https://localhost:8080/"
        },
        "id": "xCyFMO44PymB",
        "outputId": "5220eba2-bb5f-4163-ba2b-d1ddad8dd6d4"
      },
      "source": [
        "len(df)"
      ],
      "execution_count": null,
      "outputs": [
        {
          "output_type": "execute_result",
          "data": {
            "text/plain": [
              "98182"
            ]
          },
          "metadata": {
            "tags": []
          },
          "execution_count": 64
        }
      ]
    },
    {
      "cell_type": "code",
      "metadata": {
        "id": "TD5N8S7tILJ9"
      },
      "source": [
        "#let's see the last two columns now:\r\n",
        "\r\n",
        "df=df.drop(columns=['content_type_id'])"
      ],
      "execution_count": null,
      "outputs": []
    },
    {
      "cell_type": "code",
      "metadata": {
        "colab": {
          "base_uri": "https://localhost:8080/",
          "height": 195
        },
        "id": "qvl7_OkrILNs",
        "outputId": "6f201d24-42f9-437f-f284-082201ced0ef"
      },
      "source": [
        "df.head()"
      ],
      "execution_count": null,
      "outputs": [
        {
          "output_type": "execute_result",
          "data": {
            "text/html": [
              "<div>\n",
              "<style scoped>\n",
              "    .dataframe tbody tr th:only-of-type {\n",
              "        vertical-align: middle;\n",
              "    }\n",
              "\n",
              "    .dataframe tbody tr th {\n",
              "        vertical-align: top;\n",
              "    }\n",
              "\n",
              "    .dataframe thead th {\n",
              "        text-align: right;\n",
              "    }\n",
              "</style>\n",
              "<table border=\"1\" class=\"dataframe\">\n",
              "  <thead>\n",
              "    <tr style=\"text-align: right;\">\n",
              "      <th></th>\n",
              "      <th>timestamp</th>\n",
              "      <th>user_id</th>\n",
              "      <th>content_id</th>\n",
              "      <th>question_bundle_id</th>\n",
              "      <th>user_answer</th>\n",
              "      <th>answered_correctly</th>\n",
              "      <th>prior_question_elapsed_time</th>\n",
              "      <th>prior_question_had_explanation</th>\n",
              "    </tr>\n",
              "  </thead>\n",
              "  <tbody>\n",
              "    <tr>\n",
              "      <th>0</th>\n",
              "      <td>0</td>\n",
              "      <td>115</td>\n",
              "      <td>5692</td>\n",
              "      <td>1</td>\n",
              "      <td>3</td>\n",
              "      <td>1</td>\n",
              "      <td>NaN</td>\n",
              "      <td>NaN</td>\n",
              "    </tr>\n",
              "    <tr>\n",
              "      <th>1</th>\n",
              "      <td>56943</td>\n",
              "      <td>115</td>\n",
              "      <td>5716</td>\n",
              "      <td>2</td>\n",
              "      <td>2</td>\n",
              "      <td>1</td>\n",
              "      <td>37000.0</td>\n",
              "      <td>False</td>\n",
              "    </tr>\n",
              "    <tr>\n",
              "      <th>2</th>\n",
              "      <td>118363</td>\n",
              "      <td>115</td>\n",
              "      <td>128</td>\n",
              "      <td>0</td>\n",
              "      <td>0</td>\n",
              "      <td>1</td>\n",
              "      <td>55000.0</td>\n",
              "      <td>False</td>\n",
              "    </tr>\n",
              "    <tr>\n",
              "      <th>3</th>\n",
              "      <td>131167</td>\n",
              "      <td>115</td>\n",
              "      <td>7860</td>\n",
              "      <td>3</td>\n",
              "      <td>0</td>\n",
              "      <td>1</td>\n",
              "      <td>19000.0</td>\n",
              "      <td>False</td>\n",
              "    </tr>\n",
              "    <tr>\n",
              "      <th>4</th>\n",
              "      <td>137965</td>\n",
              "      <td>115</td>\n",
              "      <td>7922</td>\n",
              "      <td>4</td>\n",
              "      <td>1</td>\n",
              "      <td>1</td>\n",
              "      <td>11000.0</td>\n",
              "      <td>False</td>\n",
              "    </tr>\n",
              "  </tbody>\n",
              "</table>\n",
              "</div>"
            ],
            "text/plain": [
              "   timestamp  ...  prior_question_had_explanation\n",
              "0          0  ...                             NaN\n",
              "1      56943  ...                           False\n",
              "2     118363  ...                           False\n",
              "3     131167  ...                           False\n",
              "4     137965  ...                           False\n",
              "\n",
              "[5 rows x 8 columns]"
            ]
          },
          "metadata": {
            "tags": []
          },
          "execution_count": 66
        }
      ]
    },
    {
      "cell_type": "code",
      "metadata": {
        "id": "1wv2L9UyILQq"
      },
      "source": [
        "new_df=df[df['timestamp']!=0]"
      ],
      "execution_count": null,
      "outputs": []
    },
    {
      "cell_type": "code",
      "metadata": {
        "colab": {
          "base_uri": "https://localhost:8080/",
          "height": 195
        },
        "id": "-j9n71mFVFmE",
        "outputId": "1b7e5a53-3ab8-463b-c612-80f0e6e83cfa"
      },
      "source": [
        "new_df.head()"
      ],
      "execution_count": null,
      "outputs": [
        {
          "output_type": "execute_result",
          "data": {
            "text/html": [
              "<div>\n",
              "<style scoped>\n",
              "    .dataframe tbody tr th:only-of-type {\n",
              "        vertical-align: middle;\n",
              "    }\n",
              "\n",
              "    .dataframe tbody tr th {\n",
              "        vertical-align: top;\n",
              "    }\n",
              "\n",
              "    .dataframe thead th {\n",
              "        text-align: right;\n",
              "    }\n",
              "</style>\n",
              "<table border=\"1\" class=\"dataframe\">\n",
              "  <thead>\n",
              "    <tr style=\"text-align: right;\">\n",
              "      <th></th>\n",
              "      <th>timestamp</th>\n",
              "      <th>user_id</th>\n",
              "      <th>content_id</th>\n",
              "      <th>question_bundle_id</th>\n",
              "      <th>user_answer</th>\n",
              "      <th>answered_correctly</th>\n",
              "      <th>prior_question_elapsed_time</th>\n",
              "      <th>prior_question_had_explanation</th>\n",
              "    </tr>\n",
              "  </thead>\n",
              "  <tbody>\n",
              "    <tr>\n",
              "      <th>1</th>\n",
              "      <td>56943</td>\n",
              "      <td>115</td>\n",
              "      <td>5716</td>\n",
              "      <td>2</td>\n",
              "      <td>2</td>\n",
              "      <td>1</td>\n",
              "      <td>37000.0</td>\n",
              "      <td>False</td>\n",
              "    </tr>\n",
              "    <tr>\n",
              "      <th>2</th>\n",
              "      <td>118363</td>\n",
              "      <td>115</td>\n",
              "      <td>128</td>\n",
              "      <td>0</td>\n",
              "      <td>0</td>\n",
              "      <td>1</td>\n",
              "      <td>55000.0</td>\n",
              "      <td>False</td>\n",
              "    </tr>\n",
              "    <tr>\n",
              "      <th>3</th>\n",
              "      <td>131167</td>\n",
              "      <td>115</td>\n",
              "      <td>7860</td>\n",
              "      <td>3</td>\n",
              "      <td>0</td>\n",
              "      <td>1</td>\n",
              "      <td>19000.0</td>\n",
              "      <td>False</td>\n",
              "    </tr>\n",
              "    <tr>\n",
              "      <th>4</th>\n",
              "      <td>137965</td>\n",
              "      <td>115</td>\n",
              "      <td>7922</td>\n",
              "      <td>4</td>\n",
              "      <td>1</td>\n",
              "      <td>1</td>\n",
              "      <td>11000.0</td>\n",
              "      <td>False</td>\n",
              "    </tr>\n",
              "    <tr>\n",
              "      <th>5</th>\n",
              "      <td>157063</td>\n",
              "      <td>115</td>\n",
              "      <td>156</td>\n",
              "      <td>5</td>\n",
              "      <td>2</td>\n",
              "      <td>1</td>\n",
              "      <td>5000.0</td>\n",
              "      <td>False</td>\n",
              "    </tr>\n",
              "  </tbody>\n",
              "</table>\n",
              "</div>"
            ],
            "text/plain": [
              "   timestamp  ...  prior_question_had_explanation\n",
              "1      56943  ...                           False\n",
              "2     118363  ...                           False\n",
              "3     131167  ...                           False\n",
              "4     137965  ...                           False\n",
              "5     157063  ...                           False\n",
              "\n",
              "[5 rows x 8 columns]"
            ]
          },
          "metadata": {
            "tags": []
          },
          "execution_count": 68
        }
      ]
    },
    {
      "cell_type": "code",
      "metadata": {
        "id": "pse4K9yvVXaG",
        "colab": {
          "base_uri": "https://localhost:8080/",
          "height": 280
        },
        "outputId": "3e132bb9-4bc9-4f46-e59c-c66877d945f3"
      },
      "source": [
        "per=new_df['answered_correctly'][new_df['prior_question_had_explanation']==False].value_counts()\r\n",
        "# plt.bar(x=list(per.index),y=list(per.values),align='edge')\r\n",
        "per.plot.bar()"
      ],
      "execution_count": null,
      "outputs": [
        {
          "output_type": "execute_result",
          "data": {
            "text/plain": [
              "<matplotlib.axes._subplots.AxesSubplot at 0x7f2dd12c3b38>"
            ]
          },
          "metadata": {
            "tags": []
          },
          "execution_count": 69
        },
        {
          "output_type": "display_data",
          "data": {
            "image/png": "[encoded data removed]",
            "text/plain": [
              "<Figure size 432x288 with 1 Axes>"
            ]
          },
          "metadata": {
            "tags": [],
            "needs_background": "light"
          }
        }
      ]
    },
    {
      "cell_type": "code",
      "metadata": {
        "colab": {
          "base_uri": "https://localhost:8080/"
        },
        "id": "5tIe8bqn93VU",
        "outputId": "8f63f33b-1e2c-43eb-f9ee-c887de87d18a"
      },
      "source": [
        "per.values"
      ],
      "execution_count": null,
      "outputs": [
        {
          "output_type": "execute_result",
          "data": {
            "text/plain": [
              "array([3854, 3627])"
            ]
          },
          "metadata": {
            "tags": []
          },
          "execution_count": 70
        }
      ]
    },
    {
      "cell_type": "code",
      "metadata": {
        "colab": {
          "base_uri": "https://localhost:8080/",
          "height": 279
        },
        "id": "vzSSAHpe8rH2",
        "outputId": "53db688b-1c3c-4a9d-d440-921a88b9d1e8"
      },
      "source": [
        "new_df['answered_correctly'][new_df['prior_question_had_explanation']==True].value_counts().plot.bar()"
      ],
      "execution_count": null,
      "outputs": [
        {
          "output_type": "execute_result",
          "data": {
            "text/plain": [
              "<matplotlib.axes._subplots.AxesSubplot at 0x7f2dd123a668>"
            ]
          },
          "metadata": {
            "tags": []
          },
          "execution_count": 71
        },
        {
          "output_type": "display_data",
          "data": {
            "image/png": "[encoded data removed]",
            "text/plain": [
              "<Figure size 432x288 with 1 Axes>"
            ]
          },
          "metadata": {
            "tags": [],
            "needs_background": "light"
          }
        }
      ]
    },
    {
      "cell_type": "markdown",
      "metadata": {
        "id": "4oeKOPB-ONYJ"
      },
      "source": [
        "better performance if the student sees the prior explanation for the previous question he/she answers.This concludes that he/she gets better understanding after comparing the original answer to his/her answer."
      ]
    },
    {
      "cell_type": "code",
      "metadata": {
        "colab": {
          "base_uri": "https://localhost:8080/",
          "height": 195
        },
        "id": "36_unhaEjprf",
        "outputId": "641654e6-c679-4460-a634-a8779df97c46"
      },
      "source": [
        "new_df.head()"
      ],
      "execution_count": null,
      "outputs": [
        {
          "output_type": "execute_result",
          "data": {
            "text/html": [
              "<div>\n",
              "<style scoped>\n",
              "    .dataframe tbody tr th:only-of-type {\n",
              "        vertical-align: middle;\n",
              "    }\n",
              "\n",
              "    .dataframe tbody tr th {\n",
              "        vertical-align: top;\n",
              "    }\n",
              "\n",
              "    .dataframe thead th {\n",
              "        text-align: right;\n",
              "    }\n",
              "</style>\n",
              "<table border=\"1\" class=\"dataframe\">\n",
              "  <thead>\n",
              "    <tr style=\"text-align: right;\">\n",
              "      <th></th>\n",
              "      <th>timestamp</th>\n",
              "      <th>user_id</th>\n",
              "      <th>content_id</th>\n",
              "      <th>question_bundle_id</th>\n",
              "      <th>user_answer</th>\n",
              "      <th>answered_correctly</th>\n",
              "      <th>prior_question_elapsed_time</th>\n",
              "      <th>prior_question_had_explanation</th>\n",
              "    </tr>\n",
              "  </thead>\n",
              "  <tbody>\n",
              "    <tr>\n",
              "      <th>1</th>\n",
              "      <td>56943</td>\n",
              "      <td>115</td>\n",
              "      <td>5716</td>\n",
              "      <td>2</td>\n",
              "      <td>2</td>\n",
              "      <td>1</td>\n",
              "      <td>37000.0</td>\n",
              "      <td>False</td>\n",
              "    </tr>\n",
              "    <tr>\n",
              "      <th>2</th>\n",
              "      <td>118363</td>\n",
              "      <td>115</td>\n",
              "      <td>128</td>\n",
              "      <td>0</td>\n",
              "      <td>0</td>\n",
              "      <td>1</td>\n",
              "      <td>55000.0</td>\n",
              "      <td>False</td>\n",
              "    </tr>\n",
              "    <tr>\n",
              "      <th>3</th>\n",
              "      <td>131167</td>\n",
              "      <td>115</td>\n",
              "      <td>7860</td>\n",
              "      <td>3</td>\n",
              "      <td>0</td>\n",
              "      <td>1</td>\n",
              "      <td>19000.0</td>\n",
              "      <td>False</td>\n",
              "    </tr>\n",
              "    <tr>\n",
              "      <th>4</th>\n",
              "      <td>137965</td>\n",
              "      <td>115</td>\n",
              "      <td>7922</td>\n",
              "      <td>4</td>\n",
              "      <td>1</td>\n",
              "      <td>1</td>\n",
              "      <td>11000.0</td>\n",
              "      <td>False</td>\n",
              "    </tr>\n",
              "    <tr>\n",
              "      <th>5</th>\n",
              "      <td>157063</td>\n",
              "      <td>115</td>\n",
              "      <td>156</td>\n",
              "      <td>5</td>\n",
              "      <td>2</td>\n",
              "      <td>1</td>\n",
              "      <td>5000.0</td>\n",
              "      <td>False</td>\n",
              "    </tr>\n",
              "  </tbody>\n",
              "</table>\n",
              "</div>"
            ],
            "text/plain": [
              "   timestamp  ...  prior_question_had_explanation\n",
              "1      56943  ...                           False\n",
              "2     118363  ...                           False\n",
              "3     131167  ...                           False\n",
              "4     137965  ...                           False\n",
              "5     157063  ...                           False\n",
              "\n",
              "[5 rows x 8 columns]"
            ]
          },
          "metadata": {
            "tags": []
          },
          "execution_count": 72
        }
      ]
    },
    {
      "cell_type": "code",
      "metadata": {
        "id": "6wvDCARBjxGj"
      },
      "source": [
        ""
      ],
      "execution_count": null,
      "outputs": []
    },
    {
      "cell_type": "code",
      "metadata": {
        "colab": {
          "base_uri": "https://localhost:8080/"
        },
        "id": "ZCdghqDv9RxK",
        "outputId": "e7e75045-d59e-4f2a-ed0b-2c0bcb178cbb"
      },
      "source": [
        "new_df.describe()['prior_question_elapsed_time']"
      ],
      "execution_count": null,
      "outputs": [
        {
          "output_type": "execute_result",
          "data": {
            "text/plain": [
              "count     97830.000000\n",
              "mean      24714.468476\n",
              "std       17378.785596\n",
              "min           0.000000\n",
              "25%       16000.000000\n",
              "50%       21000.000000\n",
              "75%       28666.000000\n",
              "max      300000.000000\n",
              "Name: prior_question_elapsed_time, dtype: float64"
            ]
          },
          "metadata": {
            "tags": []
          },
          "execution_count": 73
        }
      ]
    },
    {
      "cell_type": "code",
      "metadata": {
        "colab": {
          "base_uri": "https://localhost:8080/"
        },
        "id": "T-UMYuDH9kET",
        "outputId": "5d73a408-1037-472c-9ece-db1c5914bc73"
      },
      "source": [
        "new_df[new_df['answered_correctly']==1].groupby('answered_correctly').mean()['prior_question_elapsed_time']"
      ],
      "execution_count": null,
      "outputs": [
        {
          "output_type": "execute_result",
          "data": {
            "text/plain": [
              "answered_correctly\n",
              "1    24649.246192\n",
              "Name: prior_question_elapsed_time, dtype: float64"
            ]
          },
          "metadata": {
            "tags": []
          },
          "execution_count": 74
        }
      ]
    },
    {
      "cell_type": "markdown",
      "metadata": {
        "id": "DMpNoRSY_XWX"
      },
      "source": [
        "when user is correct its taking less time time to solve them"
      ]
    },
    {
      "cell_type": "code",
      "metadata": {
        "colab": {
          "base_uri": "https://localhost:8080/",
          "height": 178
        },
        "id": "hxlhUw6IKuKs",
        "outputId": "c489eedc-3485-457b-e722-90911a8c6965"
      },
      "source": [
        "#At last lets see the correlation of features by drawing confusion matrix of general dataframe\r\n",
        "\r\n",
        "corr=df.corr()\r\n",
        "corr.style.background_gradient(cmap='coolwarm')\r\n"
      ],
      "execution_count": null,
      "outputs": [
        {
          "output_type": "execute_result",
          "data": {
            "text/html": [
              "<style  type=\"text/css\" >\n",
              "#T_d7479e3a_537c_11eb_9af5_0242ac1c0002row0_col0,#T_d7479e3a_537c_11eb_9af5_0242ac1c0002row1_col1,#T_d7479e3a_537c_11eb_9af5_0242ac1c0002row2_col2,#T_d7479e3a_537c_11eb_9af5_0242ac1c0002row3_col3,#T_d7479e3a_537c_11eb_9af5_0242ac1c0002row4_col4,#T_d7479e3a_537c_11eb_9af5_0242ac1c0002row5_col5,#T_d7479e3a_537c_11eb_9af5_0242ac1c0002row6_col6{\n",
              "            background-color:  #b40426;\n",
              "            color:  #f1f1f1;\n",
              "        }#T_d7479e3a_537c_11eb_9af5_0242ac1c0002row0_col1,#T_d7479e3a_537c_11eb_9af5_0242ac1c0002row5_col0{\n",
              "            background-color:  #688aef;\n",
              "            color:  #000000;\n",
              "        }#T_d7479e3a_537c_11eb_9af5_0242ac1c0002row0_col2{\n",
              "            background-color:  #6687ed;\n",
              "            color:  #000000;\n",
              "        }#T_d7479e3a_537c_11eb_9af5_0242ac1c0002row0_col3{\n",
              "            background-color:  #efcfbf;\n",
              "            color:  #000000;\n",
              "        }#T_d7479e3a_537c_11eb_9af5_0242ac1c0002row0_col4{\n",
              "            background-color:  #3c4ec2;\n",
              "            color:  #f1f1f1;\n",
              "        }#T_d7479e3a_537c_11eb_9af5_0242ac1c0002row0_col5,#T_d7479e3a_537c_11eb_9af5_0242ac1c0002row2_col3{\n",
              "            background-color:  #5673e0;\n",
              "            color:  #000000;\n",
              "        }#T_d7479e3a_537c_11eb_9af5_0242ac1c0002row0_col6,#T_d7479e3a_537c_11eb_9af5_0242ac1c0002row1_col2,#T_d7479e3a_537c_11eb_9af5_0242ac1c0002row1_col4,#T_d7479e3a_537c_11eb_9af5_0242ac1c0002row2_col1,#T_d7479e3a_537c_11eb_9af5_0242ac1c0002row2_col5,#T_d7479e3a_537c_11eb_9af5_0242ac1c0002row6_col0,#T_d7479e3a_537c_11eb_9af5_0242ac1c0002row6_col3{\n",
              "            background-color:  #3b4cc0;\n",
              "            color:  #f1f1f1;\n",
              "        }#T_d7479e3a_537c_11eb_9af5_0242ac1c0002row1_col0{\n",
              "            background-color:  #7093f3;\n",
              "            color:  #000000;\n",
              "        }#T_d7479e3a_537c_11eb_9af5_0242ac1c0002row1_col3{\n",
              "            background-color:  #4e68d8;\n",
              "            color:  #000000;\n",
              "        }#T_d7479e3a_537c_11eb_9af5_0242ac1c0002row1_col5,#T_d7479e3a_537c_11eb_9af5_0242ac1c0002row6_col4{\n",
              "            background-color:  #3f53c6;\n",
              "            color:  #f1f1f1;\n",
              "        }#T_d7479e3a_537c_11eb_9af5_0242ac1c0002row1_col6,#T_d7479e3a_537c_11eb_9af5_0242ac1c0002row3_col2{\n",
              "            background-color:  #5572df;\n",
              "            color:  #000000;\n",
              "        }#T_d7479e3a_537c_11eb_9af5_0242ac1c0002row2_col0{\n",
              "            background-color:  #6e90f2;\n",
              "            color:  #000000;\n",
              "        }#T_d7479e3a_537c_11eb_9af5_0242ac1c0002row2_col4,#T_d7479e3a_537c_11eb_9af5_0242ac1c0002row4_col5{\n",
              "            background-color:  #4055c8;\n",
              "            color:  #f1f1f1;\n",
              "        }#T_d7479e3a_537c_11eb_9af5_0242ac1c0002row2_col6{\n",
              "            background-color:  #80a3fa;\n",
              "            color:  #000000;\n",
              "        }#T_d7479e3a_537c_11eb_9af5_0242ac1c0002row3_col0{\n",
              "            background-color:  #f0cdbb;\n",
              "            color:  #000000;\n",
              "        }#T_d7479e3a_537c_11eb_9af5_0242ac1c0002row3_col1,#T_d7479e3a_537c_11eb_9af5_0242ac1c0002row4_col2,#T_d7479e3a_537c_11eb_9af5_0242ac1c0002row6_col1{\n",
              "            background-color:  #4c66d6;\n",
              "            color:  #000000;\n",
              "        }#T_d7479e3a_537c_11eb_9af5_0242ac1c0002row3_col4,#T_d7479e3a_537c_11eb_9af5_0242ac1c0002row6_col5{\n",
              "            background-color:  #3d50c3;\n",
              "            color:  #f1f1f1;\n",
              "        }#T_d7479e3a_537c_11eb_9af5_0242ac1c0002row3_col5{\n",
              "            background-color:  #5f7fe8;\n",
              "            color:  #000000;\n",
              "        }#T_d7479e3a_537c_11eb_9af5_0242ac1c0002row3_col6{\n",
              "            background-color:  #4257c9;\n",
              "            color:  #f1f1f1;\n",
              "        }#T_d7479e3a_537c_11eb_9af5_0242ac1c0002row4_col0{\n",
              "            background-color:  #506bda;\n",
              "            color:  #000000;\n",
              "        }#T_d7479e3a_537c_11eb_9af5_0242ac1c0002row4_col1{\n",
              "            background-color:  #455cce;\n",
              "            color:  #f1f1f1;\n",
              "        }#T_d7479e3a_537c_11eb_9af5_0242ac1c0002row4_col3{\n",
              "            background-color:  #4a63d3;\n",
              "            color:  #f1f1f1;\n",
              "        }#T_d7479e3a_537c_11eb_9af5_0242ac1c0002row4_col6{\n",
              "            background-color:  #5470de;\n",
              "            color:  #000000;\n",
              "        }#T_d7479e3a_537c_11eb_9af5_0242ac1c0002row5_col1{\n",
              "            background-color:  #4961d2;\n",
              "            color:  #f1f1f1;\n",
              "        }#T_d7479e3a_537c_11eb_9af5_0242ac1c0002row5_col2{\n",
              "            background-color:  #4358cb;\n",
              "            color:  #f1f1f1;\n",
              "        }#T_d7479e3a_537c_11eb_9af5_0242ac1c0002row5_col3{\n",
              "            background-color:  #6a8bef;\n",
              "            color:  #000000;\n",
              "        }#T_d7479e3a_537c_11eb_9af5_0242ac1c0002row5_col4{\n",
              "            background-color:  #3e51c5;\n",
              "            color:  #f1f1f1;\n",
              "        }#T_d7479e3a_537c_11eb_9af5_0242ac1c0002row5_col6{\n",
              "            background-color:  #4f69d9;\n",
              "            color:  #000000;\n",
              "        }#T_d7479e3a_537c_11eb_9af5_0242ac1c0002row6_col2{\n",
              "            background-color:  #779af7;\n",
              "            color:  #000000;\n",
              "        }</style><table id=\"T_d7479e3a_537c_11eb_9af5_0242ac1c0002\" ><thead>    <tr>        <th class=\"blank level0\" ></th>        <th class=\"col_heading level0 col0\" >timestamp</th>        <th class=\"col_heading level0 col1\" >user_id</th>        <th class=\"col_heading level0 col2\" >content_id</th>        <th class=\"col_heading level0 col3\" >question_bundle_id</th>        <th class=\"col_heading level0 col4\" >user_answer</th>        <th class=\"col_heading level0 col5\" >answered_correctly</th>        <th class=\"col_heading level0 col6\" >prior_question_elapsed_time</th>    </tr></thead><tbody>\n",
              "                <tr>\n",
              "                        <th id=\"T_d7479e3a_537c_11eb_9af5_0242ac1c0002level0_row0\" class=\"row_heading level0 row0\" >timestamp</th>\n",
              "                        <td id=\"T_d7479e3a_537c_11eb_9af5_0242ac1c0002row0_col0\" class=\"data row0 col0\" >1.000000</td>\n",
              "                        <td id=\"T_d7479e3a_537c_11eb_9af5_0242ac1c0002row0_col1\" class=\"data row0 col1\" >0.104742</td>\n",
              "                        <td id=\"T_d7479e3a_537c_11eb_9af5_0242ac1c0002row0_col2\" class=\"data row0 col2\" >0.096884</td>\n",
              "                        <td id=\"T_d7479e3a_537c_11eb_9af5_0242ac1c0002row0_col3\" class=\"data row0 col3\" >0.556215</td>\n",
              "                        <td id=\"T_d7479e3a_537c_11eb_9af5_0242ac1c0002row0_col4\" class=\"data row0 col4\" >-0.000723</td>\n",
              "                        <td id=\"T_d7479e3a_537c_11eb_9af5_0242ac1c0002row0_col5\" class=\"data row0 col5\" >0.078500</td>\n",
              "                        <td id=\"T_d7479e3a_537c_11eb_9af5_0242ac1c0002row0_col6\" class=\"data row0 col6\" >-0.077948</td>\n",
              "            </tr>\n",
              "            <tr>\n",
              "                        <th id=\"T_d7479e3a_537c_11eb_9af5_0242ac1c0002level0_row1\" class=\"row_heading level0 row1\" >user_id</th>\n",
              "                        <td id=\"T_d7479e3a_537c_11eb_9af5_0242ac1c0002row1_col0\" class=\"data row1 col0\" >0.104742</td>\n",
              "                        <td id=\"T_d7479e3a_537c_11eb_9af5_0242ac1c0002row1_col1\" class=\"data row1 col1\" >1.000000</td>\n",
              "                        <td id=\"T_d7479e3a_537c_11eb_9af5_0242ac1c0002row1_col2\" class=\"data row1 col2\" >-0.047769</td>\n",
              "                        <td id=\"T_d7479e3a_537c_11eb_9af5_0242ac1c0002row1_col3\" class=\"data row1 col3\" >0.017558</td>\n",
              "                        <td id=\"T_d7479e3a_537c_11eb_9af5_0242ac1c0002row1_col4\" class=\"data row1 col4\" >-0.007236</td>\n",
              "                        <td id=\"T_d7479e3a_537c_11eb_9af5_0242ac1c0002row1_col5\" class=\"data row1 col5\" >0.002699</td>\n",
              "                        <td id=\"T_d7479e3a_537c_11eb_9af5_0242ac1c0002row1_col6\" class=\"data row1 col6\" >0.015599</td>\n",
              "            </tr>\n",
              "            <tr>\n",
              "                        <th id=\"T_d7479e3a_537c_11eb_9af5_0242ac1c0002level0_row2\" class=\"row_heading level0 row2\" >content_id</th>\n",
              "                        <td id=\"T_d7479e3a_537c_11eb_9af5_0242ac1c0002row2_col0\" class=\"data row2 col0\" >0.096884</td>\n",
              "                        <td id=\"T_d7479e3a_537c_11eb_9af5_0242ac1c0002row2_col1\" class=\"data row2 col1\" >-0.047769</td>\n",
              "                        <td id=\"T_d7479e3a_537c_11eb_9af5_0242ac1c0002row2_col2\" class=\"data row2 col2\" >1.000000</td>\n",
              "                        <td id=\"T_d7479e3a_537c_11eb_9af5_0242ac1c0002row2_col3\" class=\"data row2 col3\" >0.046268</td>\n",
              "                        <td id=\"T_d7479e3a_537c_11eb_9af5_0242ac1c0002row2_col4\" class=\"data row2 col4\" >0.013996</td>\n",
              "                        <td id=\"T_d7479e3a_537c_11eb_9af5_0242ac1c0002row2_col5\" class=\"data row2 col5\" >-0.015363</td>\n",
              "                        <td id=\"T_d7479e3a_537c_11eb_9af5_0242ac1c0002row2_col6\" class=\"data row2 col6\" >0.150349</td>\n",
              "            </tr>\n",
              "            <tr>\n",
              "                        <th id=\"T_d7479e3a_537c_11eb_9af5_0242ac1c0002level0_row3\" class=\"row_heading level0 row3\" >question_bundle_id</th>\n",
              "                        <td id=\"T_d7479e3a_537c_11eb_9af5_0242ac1c0002row3_col0\" class=\"data row3 col0\" >0.556215</td>\n",
              "                        <td id=\"T_d7479e3a_537c_11eb_9af5_0242ac1c0002row3_col1\" class=\"data row3 col1\" >0.017558</td>\n",
              "                        <td id=\"T_d7479e3a_537c_11eb_9af5_0242ac1c0002row3_col2\" class=\"data row3 col2\" >0.046268</td>\n",
              "                        <td id=\"T_d7479e3a_537c_11eb_9af5_0242ac1c0002row3_col3\" class=\"data row3 col3\" >1.000000</td>\n",
              "                        <td id=\"T_d7479e3a_537c_11eb_9af5_0242ac1c0002row3_col4\" class=\"data row3 col4\" >0.001851</td>\n",
              "                        <td id=\"T_d7479e3a_537c_11eb_9af5_0242ac1c0002row3_col5\" class=\"data row3 col5\" >0.106672</td>\n",
              "                        <td id=\"T_d7479e3a_537c_11eb_9af5_0242ac1c0002row3_col6\" class=\"data row3 col6\" >-0.052120</td>\n",
              "            </tr>\n",
              "            <tr>\n",
              "                        <th id=\"T_d7479e3a_537c_11eb_9af5_0242ac1c0002level0_row4\" class=\"row_heading level0 row4\" >user_answer</th>\n",
              "                        <td id=\"T_d7479e3a_537c_11eb_9af5_0242ac1c0002row4_col0\" class=\"data row4 col0\" >-0.000723</td>\n",
              "                        <td id=\"T_d7479e3a_537c_11eb_9af5_0242ac1c0002row4_col1\" class=\"data row4 col1\" >-0.007236</td>\n",
              "                        <td id=\"T_d7479e3a_537c_11eb_9af5_0242ac1c0002row4_col2\" class=\"data row4 col2\" >0.013996</td>\n",
              "                        <td id=\"T_d7479e3a_537c_11eb_9af5_0242ac1c0002row4_col3\" class=\"data row4 col3\" >0.001851</td>\n",
              "                        <td id=\"T_d7479e3a_537c_11eb_9af5_0242ac1c0002row4_col4\" class=\"data row4 col4\" >1.000000</td>\n",
              "                        <td id=\"T_d7479e3a_537c_11eb_9af5_0242ac1c0002row4_col5\" class=\"data row4 col5\" >0.005684</td>\n",
              "                        <td id=\"T_d7479e3a_537c_11eb_9af5_0242ac1c0002row4_col6\" class=\"data row4 col6\" >0.011867</td>\n",
              "            </tr>\n",
              "            <tr>\n",
              "                        <th id=\"T_d7479e3a_537c_11eb_9af5_0242ac1c0002level0_row5\" class=\"row_heading level0 row5\" >answered_correctly</th>\n",
              "                        <td id=\"T_d7479e3a_537c_11eb_9af5_0242ac1c0002row5_col0\" class=\"data row5 col0\" >0.078500</td>\n",
              "                        <td id=\"T_d7479e3a_537c_11eb_9af5_0242ac1c0002row5_col1\" class=\"data row5 col1\" >0.002699</td>\n",
              "                        <td id=\"T_d7479e3a_537c_11eb_9af5_0242ac1c0002row5_col2\" class=\"data row5 col2\" >-0.015363</td>\n",
              "                        <td id=\"T_d7479e3a_537c_11eb_9af5_0242ac1c0002row5_col3\" class=\"data row5 col3\" >0.106672</td>\n",
              "                        <td id=\"T_d7479e3a_537c_11eb_9af5_0242ac1c0002row5_col4\" class=\"data row5 col4\" >0.005684</td>\n",
              "                        <td id=\"T_d7479e3a_537c_11eb_9af5_0242ac1c0002row5_col5\" class=\"data row5 col5\" >1.000000</td>\n",
              "                        <td id=\"T_d7479e3a_537c_11eb_9af5_0242ac1c0002row5_col6\" class=\"data row5 col6\" >-0.005566</td>\n",
              "            </tr>\n",
              "            <tr>\n",
              "                        <th id=\"T_d7479e3a_537c_11eb_9af5_0242ac1c0002level0_row6\" class=\"row_heading level0 row6\" >prior_question_elapsed_time</th>\n",
              "                        <td id=\"T_d7479e3a_537c_11eb_9af5_0242ac1c0002row6_col0\" class=\"data row6 col0\" >-0.077948</td>\n",
              "                        <td id=\"T_d7479e3a_537c_11eb_9af5_0242ac1c0002row6_col1\" class=\"data row6 col1\" >0.015599</td>\n",
              "                        <td id=\"T_d7479e3a_537c_11eb_9af5_0242ac1c0002row6_col2\" class=\"data row6 col2\" >0.150349</td>\n",
              "                        <td id=\"T_d7479e3a_537c_11eb_9af5_0242ac1c0002row6_col3\" class=\"data row6 col3\" >-0.052120</td>\n",
              "                        <td id=\"T_d7479e3a_537c_11eb_9af5_0242ac1c0002row6_col4\" class=\"data row6 col4\" >0.011867</td>\n",
              "                        <td id=\"T_d7479e3a_537c_11eb_9af5_0242ac1c0002row6_col5\" class=\"data row6 col5\" >-0.005566</td>\n",
              "                        <td id=\"T_d7479e3a_537c_11eb_9af5_0242ac1c0002row6_col6\" class=\"data row6 col6\" >1.000000</td>\n",
              "            </tr>\n",
              "    </tbody></table>"
            ],
            "text/plain": [
              "<pandas.io.formats.style.Styler at 0x7f2dd1218d68>"
            ]
          },
          "metadata": {
            "tags": []
          },
          "execution_count": 75
        }
      ]
    },
    {
      "cell_type": "code",
      "metadata": {
        "colab": {
          "base_uri": "https://localhost:8080/",
          "height": 195
        },
        "id": "uHInCMl2Idkx",
        "outputId": "9139d953-2a63-45d5-88d0-3acfb42571a5"
      },
      "source": [
        "df.head()"
      ],
      "execution_count": null,
      "outputs": [
        {
          "output_type": "execute_result",
          "data": {
            "text/html": [
              "<div>\n",
              "<style scoped>\n",
              "    .dataframe tbody tr th:only-of-type {\n",
              "        vertical-align: middle;\n",
              "    }\n",
              "\n",
              "    .dataframe tbody tr th {\n",
              "        vertical-align: top;\n",
              "    }\n",
              "\n",
              "    .dataframe thead th {\n",
              "        text-align: right;\n",
              "    }\n",
              "</style>\n",
              "<table border=\"1\" class=\"dataframe\">\n",
              "  <thead>\n",
              "    <tr style=\"text-align: right;\">\n",
              "      <th></th>\n",
              "      <th>timestamp</th>\n",
              "      <th>user_id</th>\n",
              "      <th>content_id</th>\n",
              "      <th>question_bundle_id</th>\n",
              "      <th>user_answer</th>\n",
              "      <th>answered_correctly</th>\n",
              "      <th>prior_question_elapsed_time</th>\n",
              "      <th>prior_question_had_explanation</th>\n",
              "    </tr>\n",
              "  </thead>\n",
              "  <tbody>\n",
              "    <tr>\n",
              "      <th>0</th>\n",
              "      <td>0</td>\n",
              "      <td>115</td>\n",
              "      <td>5692</td>\n",
              "      <td>1</td>\n",
              "      <td>3</td>\n",
              "      <td>1</td>\n",
              "      <td>NaN</td>\n",
              "      <td>NaN</td>\n",
              "    </tr>\n",
              "    <tr>\n",
              "      <th>1</th>\n",
              "      <td>56943</td>\n",
              "      <td>115</td>\n",
              "      <td>5716</td>\n",
              "      <td>2</td>\n",
              "      <td>2</td>\n",
              "      <td>1</td>\n",
              "      <td>37000.0</td>\n",
              "      <td>False</td>\n",
              "    </tr>\n",
              "    <tr>\n",
              "      <th>2</th>\n",
              "      <td>118363</td>\n",
              "      <td>115</td>\n",
              "      <td>128</td>\n",
              "      <td>0</td>\n",
              "      <td>0</td>\n",
              "      <td>1</td>\n",
              "      <td>55000.0</td>\n",
              "      <td>False</td>\n",
              "    </tr>\n",
              "    <tr>\n",
              "      <th>3</th>\n",
              "      <td>131167</td>\n",
              "      <td>115</td>\n",
              "      <td>7860</td>\n",
              "      <td>3</td>\n",
              "      <td>0</td>\n",
              "      <td>1</td>\n",
              "      <td>19000.0</td>\n",
              "      <td>False</td>\n",
              "    </tr>\n",
              "    <tr>\n",
              "      <th>4</th>\n",
              "      <td>137965</td>\n",
              "      <td>115</td>\n",
              "      <td>7922</td>\n",
              "      <td>4</td>\n",
              "      <td>1</td>\n",
              "      <td>1</td>\n",
              "      <td>11000.0</td>\n",
              "      <td>False</td>\n",
              "    </tr>\n",
              "  </tbody>\n",
              "</table>\n",
              "</div>"
            ],
            "text/plain": [
              "   timestamp  ...  prior_question_had_explanation\n",
              "0          0  ...                             NaN\n",
              "1      56943  ...                           False\n",
              "2     118363  ...                           False\n",
              "3     131167  ...                           False\n",
              "4     137965  ...                           False\n",
              "\n",
              "[5 rows x 8 columns]"
            ]
          },
          "metadata": {
            "tags": []
          },
          "execution_count": 76
        }
      ]
    },
    {
      "cell_type": "markdown",
      "metadata": {
        "id": "7P9SlqAxIPLt"
      },
      "source": [
        "Analysis done to understand and visualize different features inside the data:\r\n",
        "Data : 100k rows only taken due for faster optimization of computation.\r\n",
        "\r\n",
        "Now lets draw the inference for each column:\r\n",
        "\r\n",
        "- Timestamp : Its given in sorted order for every user id.Its basically gives the user_interaction on the platform service.\r\n",
        "\r\n",
        "- User_id : Now there are 349 different users on this platform each one of them is identified by unique user_name.\r\n",
        "\r\n",
        "- Content_id : it is the (questions+lectures) available on the platform.\r\n",
        "\r\n",
        "- Question_id_bundle : It contains the set of questions max=3q and each set is identified by unique id.\r\n",
        "\r\n",
        "- User_answer : Its seems like the option chosen for different question in a mcq type quest option available: 0,1,2,3 and -1 for lectures\r\n",
        "\r\n",
        "- Answered_correctly (Target_Variable) : \r\n",
        "\r\n"
      ]
    },
    {
      "cell_type": "code",
      "metadata": {
        "colab": {
          "base_uri": "https://localhost:8080/",
          "height": 195
        },
        "id": "FXbwXfAoMo6H",
        "outputId": "2d6a6bcf-cac1-40ce-b013-fc076a4d59f2"
      },
      "source": [
        "df.head()"
      ],
      "execution_count": null,
      "outputs": [
        {
          "output_type": "execute_result",
          "data": {
            "text/html": [
              "<div>\n",
              "<style scoped>\n",
              "    .dataframe tbody tr th:only-of-type {\n",
              "        vertical-align: middle;\n",
              "    }\n",
              "\n",
              "    .dataframe tbody tr th {\n",
              "        vertical-align: top;\n",
              "    }\n",
              "\n",
              "    .dataframe thead th {\n",
              "        text-align: right;\n",
              "    }\n",
              "</style>\n",
              "<table border=\"1\" class=\"dataframe\">\n",
              "  <thead>\n",
              "    <tr style=\"text-align: right;\">\n",
              "      <th></th>\n",
              "      <th>timestamp</th>\n",
              "      <th>user_id</th>\n",
              "      <th>content_id</th>\n",
              "      <th>question_bundle_id</th>\n",
              "      <th>user_answer</th>\n",
              "      <th>answered_correctly</th>\n",
              "      <th>prior_question_elapsed_time</th>\n",
              "      <th>prior_question_had_explanation</th>\n",
              "    </tr>\n",
              "  </thead>\n",
              "  <tbody>\n",
              "    <tr>\n",
              "      <th>0</th>\n",
              "      <td>0</td>\n",
              "      <td>115</td>\n",
              "      <td>5692</td>\n",
              "      <td>1</td>\n",
              "      <td>3</td>\n",
              "      <td>1</td>\n",
              "      <td>NaN</td>\n",
              "      <td>NaN</td>\n",
              "    </tr>\n",
              "    <tr>\n",
              "      <th>1</th>\n",
              "      <td>56943</td>\n",
              "      <td>115</td>\n",
              "      <td>5716</td>\n",
              "      <td>2</td>\n",
              "      <td>2</td>\n",
              "      <td>1</td>\n",
              "      <td>37000.0</td>\n",
              "      <td>False</td>\n",
              "    </tr>\n",
              "    <tr>\n",
              "      <th>2</th>\n",
              "      <td>118363</td>\n",
              "      <td>115</td>\n",
              "      <td>128</td>\n",
              "      <td>0</td>\n",
              "      <td>0</td>\n",
              "      <td>1</td>\n",
              "      <td>55000.0</td>\n",
              "      <td>False</td>\n",
              "    </tr>\n",
              "    <tr>\n",
              "      <th>3</th>\n",
              "      <td>131167</td>\n",
              "      <td>115</td>\n",
              "      <td>7860</td>\n",
              "      <td>3</td>\n",
              "      <td>0</td>\n",
              "      <td>1</td>\n",
              "      <td>19000.0</td>\n",
              "      <td>False</td>\n",
              "    </tr>\n",
              "    <tr>\n",
              "      <th>4</th>\n",
              "      <td>137965</td>\n",
              "      <td>115</td>\n",
              "      <td>7922</td>\n",
              "      <td>4</td>\n",
              "      <td>1</td>\n",
              "      <td>1</td>\n",
              "      <td>11000.0</td>\n",
              "      <td>False</td>\n",
              "    </tr>\n",
              "  </tbody>\n",
              "</table>\n",
              "</div>"
            ],
            "text/plain": [
              "   timestamp  ...  prior_question_had_explanation\n",
              "0          0  ...                             NaN\n",
              "1      56943  ...                           False\n",
              "2     118363  ...                           False\n",
              "3     131167  ...                           False\n",
              "4     137965  ...                           False\n",
              "\n",
              "[5 rows x 8 columns]"
            ]
          },
          "metadata": {
            "tags": []
          },
          "execution_count": 77
        }
      ]
    },
    {
      "cell_type": "code",
      "metadata": {
        "id": "oi30JPxKSA44"
      },
      "source": [
        "train_df=df.dropna()"
      ],
      "execution_count": null,
      "outputs": []
    },
    {
      "cell_type": "code",
      "metadata": {
        "colab": {
          "base_uri": "https://localhost:8080/",
          "height": 195
        },
        "id": "YunKMLbyTZrx",
        "outputId": "173c3e55-1c2f-4a3e-f027-f46cb2d28aa8"
      },
      "source": [
        "train_df.head()"
      ],
      "execution_count": null,
      "outputs": [
        {
          "output_type": "execute_result",
          "data": {
            "text/html": [
              "<div>\n",
              "<style scoped>\n",
              "    .dataframe tbody tr th:only-of-type {\n",
              "        vertical-align: middle;\n",
              "    }\n",
              "\n",
              "    .dataframe tbody tr th {\n",
              "        vertical-align: top;\n",
              "    }\n",
              "\n",
              "    .dataframe thead th {\n",
              "        text-align: right;\n",
              "    }\n",
              "</style>\n",
              "<table border=\"1\" class=\"dataframe\">\n",
              "  <thead>\n",
              "    <tr style=\"text-align: right;\">\n",
              "      <th></th>\n",
              "      <th>timestamp</th>\n",
              "      <th>user_id</th>\n",
              "      <th>content_id</th>\n",
              "      <th>question_bundle_id</th>\n",
              "      <th>user_answer</th>\n",
              "      <th>answered_correctly</th>\n",
              "      <th>prior_question_elapsed_time</th>\n",
              "      <th>prior_question_had_explanation</th>\n",
              "    </tr>\n",
              "  </thead>\n",
              "  <tbody>\n",
              "    <tr>\n",
              "      <th>1</th>\n",
              "      <td>56943</td>\n",
              "      <td>115</td>\n",
              "      <td>5716</td>\n",
              "      <td>2</td>\n",
              "      <td>2</td>\n",
              "      <td>1</td>\n",
              "      <td>37000.0</td>\n",
              "      <td>False</td>\n",
              "    </tr>\n",
              "    <tr>\n",
              "      <th>2</th>\n",
              "      <td>118363</td>\n",
              "      <td>115</td>\n",
              "      <td>128</td>\n",
              "      <td>0</td>\n",
              "      <td>0</td>\n",
              "      <td>1</td>\n",
              "      <td>55000.0</td>\n",
              "      <td>False</td>\n",
              "    </tr>\n",
              "    <tr>\n",
              "      <th>3</th>\n",
              "      <td>131167</td>\n",
              "      <td>115</td>\n",
              "      <td>7860</td>\n",
              "      <td>3</td>\n",
              "      <td>0</td>\n",
              "      <td>1</td>\n",
              "      <td>19000.0</td>\n",
              "      <td>False</td>\n",
              "    </tr>\n",
              "    <tr>\n",
              "      <th>4</th>\n",
              "      <td>137965</td>\n",
              "      <td>115</td>\n",
              "      <td>7922</td>\n",
              "      <td>4</td>\n",
              "      <td>1</td>\n",
              "      <td>1</td>\n",
              "      <td>11000.0</td>\n",
              "      <td>False</td>\n",
              "    </tr>\n",
              "    <tr>\n",
              "      <th>5</th>\n",
              "      <td>157063</td>\n",
              "      <td>115</td>\n",
              "      <td>156</td>\n",
              "      <td>5</td>\n",
              "      <td>2</td>\n",
              "      <td>1</td>\n",
              "      <td>5000.0</td>\n",
              "      <td>False</td>\n",
              "    </tr>\n",
              "  </tbody>\n",
              "</table>\n",
              "</div>"
            ],
            "text/plain": [
              "   timestamp  ...  prior_question_had_explanation\n",
              "1      56943  ...                           False\n",
              "2     118363  ...                           False\n",
              "3     131167  ...                           False\n",
              "4     137965  ...                           False\n",
              "5     157063  ...                           False\n",
              "\n",
              "[5 rows x 8 columns]"
            ]
          },
          "metadata": {
            "tags": []
          },
          "execution_count": 79
        }
      ]
    },
    {
      "cell_type": "code",
      "metadata": {
        "colab": {
          "base_uri": "https://localhost:8080/"
        },
        "id": "N8xQT_SdTn-_",
        "outputId": "eb672a06-1827-46c2-c6ea-8a2dcfaad5e0"
      },
      "source": [
        "train_df.info()"
      ],
      "execution_count": null,
      "outputs": [
        {
          "output_type": "stream",
          "text": [
            "<class 'pandas.core.frame.DataFrame'>\n",
            "Int64Index: 97834 entries, 1 to 99999\n",
            "Data columns (total 8 columns):\n",
            " #   Column                          Non-Null Count  Dtype  \n",
            "---  ------                          --------------  -----  \n",
            " 0   timestamp                       97834 non-null  int64  \n",
            " 1   user_id                         97834 non-null  int64  \n",
            " 2   content_id                      97834 non-null  int64  \n",
            " 3   question_bundle_id              97834 non-null  int64  \n",
            " 4   user_answer                     97834 non-null  int64  \n",
            " 5   answered_correctly              97834 non-null  int64  \n",
            " 6   prior_question_elapsed_time     97834 non-null  float64\n",
            " 7   prior_question_had_explanation  97834 non-null  object \n",
            "dtypes: float64(1), int64(6), object(1)\n",
            "memory usage: 6.7+ MB\n"
          ],
          "name": "stdout"
        }
      ]
    },
    {
      "cell_type": "code",
      "metadata": {
        "id": "Gn6h867tVDEZ"
      },
      "source": [
        "train_df=train_df[['user_id','prior_question_elapsed_time','answered_correctly']]"
      ],
      "execution_count": null,
      "outputs": []
    },
    {
      "cell_type": "code",
      "metadata": {
        "id": "0m5s_921Wzo9"
      },
      "source": [
        "# train_df['answered_correctly'][train_df['user_id']==115].mean()"
      ],
      "execution_count": null,
      "outputs": []
    },
    {
      "cell_type": "code",
      "metadata": {
        "id": "z9Tqvt7qoqQ7"
      },
      "source": [
        "new_train_df=train_df.copy()"
      ],
      "execution_count": null,
      "outputs": []
    },
    {
      "cell_type": "code",
      "metadata": {
        "id": "asyixT2HpESu"
      },
      "source": [
        "new_train_df=new_train_df[:len(train_df['user_id'].unique())]"
      ],
      "execution_count": null,
      "outputs": []
    },
    {
      "cell_type": "code",
      "metadata": {
        "id": "QU2F4NAhpzIN"
      },
      "source": [
        "new_train_df['user_id']=train_df['user_id'].unique()"
      ],
      "execution_count": null,
      "outputs": []
    },
    {
      "cell_type": "code",
      "metadata": {
        "colab": {
          "base_uri": "https://localhost:8080/"
        },
        "id": "k4KB33j0ruY_",
        "outputId": "3d9e0f44-e3a3-42aa-9b55-e5d93dc99f2b"
      },
      "source": [
        "len(new_train_df['user_id'].unique())"
      ],
      "execution_count": null,
      "outputs": [
        {
          "output_type": "execute_result",
          "data": {
            "text/plain": [
              "348"
            ]
          },
          "metadata": {
            "tags": []
          },
          "execution_count": 86
        }
      ]
    },
    {
      "cell_type": "code",
      "metadata": {
        "colab": {
          "base_uri": "https://localhost:8080/",
          "height": 195
        },
        "id": "E-Q6zN-lucc6",
        "outputId": "8b19f862-12e0-452c-cee3-395f1344fade"
      },
      "source": [
        "new_train_df.head()"
      ],
      "execution_count": null,
      "outputs": [
        {
          "output_type": "execute_result",
          "data": {
            "text/html": [
              "<div>\n",
              "<style scoped>\n",
              "    .dataframe tbody tr th:only-of-type {\n",
              "        vertical-align: middle;\n",
              "    }\n",
              "\n",
              "    .dataframe tbody tr th {\n",
              "        vertical-align: top;\n",
              "    }\n",
              "\n",
              "    .dataframe thead th {\n",
              "        text-align: right;\n",
              "    }\n",
              "</style>\n",
              "<table border=\"1\" class=\"dataframe\">\n",
              "  <thead>\n",
              "    <tr style=\"text-align: right;\">\n",
              "      <th></th>\n",
              "      <th>user_id</th>\n",
              "      <th>prior_question_elapsed_time</th>\n",
              "      <th>answered_correctly</th>\n",
              "    </tr>\n",
              "  </thead>\n",
              "  <tbody>\n",
              "    <tr>\n",
              "      <th>1</th>\n",
              "      <td>115</td>\n",
              "      <td>37000.0</td>\n",
              "      <td>1</td>\n",
              "    </tr>\n",
              "    <tr>\n",
              "      <th>2</th>\n",
              "      <td>124</td>\n",
              "      <td>55000.0</td>\n",
              "      <td>1</td>\n",
              "    </tr>\n",
              "    <tr>\n",
              "      <th>3</th>\n",
              "      <td>2746</td>\n",
              "      <td>19000.0</td>\n",
              "      <td>1</td>\n",
              "    </tr>\n",
              "    <tr>\n",
              "      <th>4</th>\n",
              "      <td>5382</td>\n",
              "      <td>11000.0</td>\n",
              "      <td>1</td>\n",
              "    </tr>\n",
              "    <tr>\n",
              "      <th>5</th>\n",
              "      <td>8623</td>\n",
              "      <td>5000.0</td>\n",
              "      <td>1</td>\n",
              "    </tr>\n",
              "  </tbody>\n",
              "</table>\n",
              "</div>"
            ],
            "text/plain": [
              "   user_id  prior_question_elapsed_time  answered_correctly\n",
              "1      115                      37000.0                   1\n",
              "2      124                      55000.0                   1\n",
              "3     2746                      19000.0                   1\n",
              "4     5382                      11000.0                   1\n",
              "5     8623                       5000.0                   1"
            ]
          },
          "metadata": {
            "tags": []
          },
          "execution_count": 87
        }
      ]
    },
    {
      "cell_type": "code",
      "metadata": {
        "colab": {
          "base_uri": "https://localhost:8080/"
        },
        "id": "fLsJm0Npuwwf",
        "outputId": "9b89acc9-414d-47ec-a525-35bf6adb9da7"
      },
      "source": [
        "new_train_df.iloc[1,0]"
      ],
      "execution_count": null,
      "outputs": [
        {
          "output_type": "execute_result",
          "data": {
            "text/plain": [
              "124"
            ]
          },
          "metadata": {
            "tags": []
          },
          "execution_count": 88
        }
      ]
    },
    {
      "cell_type": "code",
      "metadata": {
        "id": "3BFMJ5aUTtXX"
      },
      "source": [
        "l=0\r\n",
        "for i in train_df['user_id'].unique():\r\n",
        "    new_train_df.iloc[l,2]=train_df['answered_correctly'][train_df['user_id']==i].mean()\r\n",
        "    new_train_df.iloc[l,1]=train_df['prior_question_elapsed_time'][train_df['user_id']==i].mean()\r\n",
        "    l+=1\r\n"
      ],
      "execution_count": null,
      "outputs": []
    },
    {
      "cell_type": "code",
      "metadata": {
        "colab": {
          "base_uri": "https://localhost:8080/",
          "height": 402
        },
        "id": "zipeEbbHpWog",
        "outputId": "9d176e83-b81d-4291-c799-15a1bf39223c"
      },
      "source": [
        "new_train_df"
      ],
      "execution_count": null,
      "outputs": [
        {
          "output_type": "execute_result",
          "data": {
            "text/html": [
              "<div>\n",
              "<style scoped>\n",
              "    .dataframe tbody tr th:only-of-type {\n",
              "        vertical-align: middle;\n",
              "    }\n",
              "\n",
              "    .dataframe tbody tr th {\n",
              "        vertical-align: top;\n",
              "    }\n",
              "\n",
              "    .dataframe thead th {\n",
              "        text-align: right;\n",
              "    }\n",
              "</style>\n",
              "<table border=\"1\" class=\"dataframe\">\n",
              "  <thead>\n",
              "    <tr style=\"text-align: right;\">\n",
              "      <th></th>\n",
              "      <th>user_id</th>\n",
              "      <th>prior_question_elapsed_time</th>\n",
              "      <th>answered_correctly</th>\n",
              "    </tr>\n",
              "  </thead>\n",
              "  <tbody>\n",
              "    <tr>\n",
              "      <th>1</th>\n",
              "      <td>115</td>\n",
              "      <td>19933.311111</td>\n",
              "      <td>0.688889</td>\n",
              "    </tr>\n",
              "    <tr>\n",
              "      <th>2</th>\n",
              "      <td>124</td>\n",
              "      <td>18793.000000</td>\n",
              "      <td>0.206897</td>\n",
              "    </tr>\n",
              "    <tr>\n",
              "      <th>3</th>\n",
              "      <td>2746</td>\n",
              "      <td>18055.555556</td>\n",
              "      <td>0.611111</td>\n",
              "    </tr>\n",
              "    <tr>\n",
              "      <th>4</th>\n",
              "      <td>5382</td>\n",
              "      <td>36048.387097</td>\n",
              "      <td>0.669355</td>\n",
              "    </tr>\n",
              "    <tr>\n",
              "      <th>5</th>\n",
              "      <td>8623</td>\n",
              "      <td>26107.407407</td>\n",
              "      <td>0.638889</td>\n",
              "    </tr>\n",
              "    <tr>\n",
              "      <th>...</th>\n",
              "      <td>...</td>\n",
              "      <td>...</td>\n",
              "      <td>...</td>\n",
              "    </tr>\n",
              "    <tr>\n",
              "      <th>357</th>\n",
              "      <td>2058478</td>\n",
              "      <td>40187.500000</td>\n",
              "      <td>0.437500</td>\n",
              "    </tr>\n",
              "    <tr>\n",
              "      <th>358</th>\n",
              "      <td>2066347</td>\n",
              "      <td>23822.113402</td>\n",
              "      <td>0.525773</td>\n",
              "    </tr>\n",
              "    <tr>\n",
              "      <th>359</th>\n",
              "      <td>2067931</td>\n",
              "      <td>16642.857143</td>\n",
              "      <td>0.803571</td>\n",
              "    </tr>\n",
              "    <tr>\n",
              "      <th>360</th>\n",
              "      <td>2073472</td>\n",
              "      <td>20526.782278</td>\n",
              "      <td>0.658228</td>\n",
              "    </tr>\n",
              "    <tr>\n",
              "      <th>361</th>\n",
              "      <td>2078569</td>\n",
              "      <td>19164.874552</td>\n",
              "      <td>0.777778</td>\n",
              "    </tr>\n",
              "  </tbody>\n",
              "</table>\n",
              "<p>348 rows × 3 columns</p>\n",
              "</div>"
            ],
            "text/plain": [
              "     user_id  prior_question_elapsed_time  answered_correctly\n",
              "1        115                 19933.311111            0.688889\n",
              "2        124                 18793.000000            0.206897\n",
              "3       2746                 18055.555556            0.611111\n",
              "4       5382                 36048.387097            0.669355\n",
              "5       8623                 26107.407407            0.638889\n",
              "..       ...                          ...                 ...\n",
              "357  2058478                 40187.500000            0.437500\n",
              "358  2066347                 23822.113402            0.525773\n",
              "359  2067931                 16642.857143            0.803571\n",
              "360  2073472                 20526.782278            0.658228\n",
              "361  2078569                 19164.874552            0.777778\n",
              "\n",
              "[348 rows x 3 columns]"
            ]
          },
          "metadata": {
            "tags": []
          },
          "execution_count": 90
        }
      ]
    },
    {
      "cell_type": "code",
      "metadata": {
        "id": "YPnhCWs7nIEt"
      },
      "source": [
        "from sklearn.model_selection import train_test_split\r\n",
        "x_train,x_test,y_train,y_test=train_test_split(new_train_df.iloc[:,:2] ,new_train_df.iloc[:,2], test_size=0.2 , random_state=0)"
      ],
      "execution_count": null,
      "outputs": []
    },
    {
      "cell_type": "code",
      "metadata": {
        "id": "fum-Ws5JwwU8"
      },
      "source": [
        "x_train,y_train=x_train.values,y_train.values"
      ],
      "execution_count": null,
      "outputs": []
    },
    {
      "cell_type": "code",
      "metadata": {
        "id": "6Nzvsz0Xw5oC"
      },
      "source": [
        "y_train=np.array([1 if i>0.5 else 0 for i in y_train])"
      ],
      "execution_count": null,
      "outputs": []
    },
    {
      "cell_type": "code",
      "metadata": {
        "id": "avMCddGAx6Wx"
      },
      "source": [
        "x_test,y_test=x_test.values,y_test.values"
      ],
      "execution_count": null,
      "outputs": []
    },
    {
      "cell_type": "code",
      "metadata": {
        "id": "yctcln1syASW"
      },
      "source": [
        "y_test=np.array([1 if i>0.5 else 0 for i in y_test])"
      ],
      "execution_count": null,
      "outputs": []
    },
    {
      "cell_type": "code",
      "metadata": {
        "colab": {
          "base_uri": "https://localhost:8080/"
        },
        "id": "XlXNPI4xQOil",
        "outputId": "61022601-0b70-41b0-b9bb-2b905275870a"
      },
      "source": [
        "!pip install lightgbm"
      ],
      "execution_count": null,
      "outputs": [
        {
          "output_type": "stream",
          "text": [
            "Requirement already satisfied: lightgbm in /usr/local/lib/python3.6/dist-packages (2.2.3)\n",
            "Requirement already satisfied: scipy in /usr/local/lib/python3.6/dist-packages (from lightgbm) (1.4.1)\n",
            "Requirement already satisfied: numpy in /usr/local/lib/python3.6/dist-packages (from lightgbm) (1.19.4)\n",
            "Requirement already satisfied: scikit-learn in /usr/local/lib/python3.6/dist-packages (from lightgbm) (0.22.2.post1)\n",
            "Requirement already satisfied: joblib>=0.11 in /usr/local/lib/python3.6/dist-packages (from scikit-learn->lightgbm) (1.0.0)\n"
          ],
          "name": "stdout"
        }
      ]
    },
    {
      "cell_type": "code",
      "metadata": {
        "id": "Ynl_-im4xp95"
      },
      "source": [
        "import lightgbm as lgb"
      ],
      "execution_count": null,
      "outputs": []
    },
    {
      "cell_type": "code",
      "metadata": {
        "id": "BY1PIh2iRGuy"
      },
      "source": [
        "lgbm_params = {\r\n",
        "    'objective': 'binary',\r\n",
        "    'metric': ['auc'],\r\n",
        "}"
      ],
      "execution_count": null,
      "outputs": []
    },
    {
      "cell_type": "code",
      "metadata": {
        "id": "UzRAZ_6pMy5i"
      },
      "source": [
        "#Data Preparation\r\n",
        "\r\n",
        "train_data=train_data = lgb.Dataset(\r\n",
        "    data = x_train,\r\n",
        "    label = y_train,\r\n",
        "    categorical_feature = None,\r\n",
        ")\r\n",
        "\r\n",
        "val_data = lgb.Dataset(\r\n",
        "    data = x_test,\r\n",
        "    label = y_test,\r\n",
        "    categorical_feature = None,\r\n",
        ")\r\n"
      ],
      "execution_count": null,
      "outputs": []
    },
    {
      "cell_type": "code",
      "metadata": {
        "id": "c8TMCXdHyfng"
      },
      "source": [
        "categorical_feature_idxs = []\r\n",
        "VERSION = 'V1E'\r\n",
        "NUM_BOOST_ROUND = 5000\r\n",
        "VERBOSE_EVAL = 10"
      ],
      "execution_count": null,
      "outputs": []
    },
    {
      "cell_type": "code",
      "metadata": {
        "colab": {
          "base_uri": "https://localhost:8080/"
        },
        "id": "wP8raRvFPh22",
        "outputId": "5fdd5829-8750-442c-c144-b8bae655f8f4"
      },
      "source": [
        "# Train with LGBM\r\n",
        "\r\n",
        "def train():\r\n",
        "    evals_result = {}\r\n",
        "    model = lgb.train(\r\n",
        "        params = lgbm_params,\r\n",
        "        train_set = train_data,\r\n",
        "        valid_sets = [val_data],\r\n",
        "        num_boost_round = NUM_BOOST_ROUND,\r\n",
        "        verbose_eval = VERBOSE_EVAL,\r\n",
        "        evals_result = evals_result,\r\n",
        "        early_stopping_rounds = 10,\r\n",
        "        categorical_feature = categorical_feature_idxs,\r\n",
        "    )\r\n",
        "\r\n",
        "    # save model\r\n",
        "    model.save_model(f'model_{VERSION}_{NUM_BOOST_ROUND}.lgb')\r\n",
        "    \r\n",
        "    return model, evals_result\r\n",
        "    \r\n",
        "model, evals_result = train()"
      ],
      "execution_count": null,
      "outputs": [
        {
          "output_type": "stream",
          "text": [
            "Training until validation scores don't improve for 10 rounds.\n",
            "[10]\tvalid_0's auc: 0.59672\n",
            "[20]\tvalid_0's auc: 0.647183\n",
            "[30]\tvalid_0's auc: 0.626156\n",
            "Early stopping, best iteration is:\n",
            "[21]\tvalid_0's auc: 0.651388\n"
          ],
          "name": "stdout"
        }
      ]
    },
    {
      "cell_type": "code",
      "metadata": {
        "id": "DFWN4SvkytLU"
      },
      "source": [
        ""
      ],
      "execution_count": null,
      "outputs": []
    }
  ]
}